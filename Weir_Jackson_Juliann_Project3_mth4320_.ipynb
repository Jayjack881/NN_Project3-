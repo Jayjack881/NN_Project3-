{
  "nbformat": 4,
  "nbformat_minor": 0,
  "metadata": {
    "colab": {
      "name": "Weir-Jackson_Juliann_Project3_mth4320 .ipynb",
      "provenance": [],
      "collapsed_sections": [
        "2dmDW_84rBgt"
      ],
      "toc_visible": true,
      "machine_shape": "hm"
    },
    "kernelspec": {
      "name": "python3",
      "display_name": "Python 3"
    },
    "language_info": {
      "name": "python"
    },
    "accelerator": "GPU"
  },
  "cells": [
    {
      "cell_type": "markdown",
      "source": [
        "#Imports "
      ],
      "metadata": {
        "id": "qMO-KP73fPoH"
      }
    },
    {
      "cell_type": "code",
      "execution_count": 3,
      "metadata": {
        "colab": {
          "base_uri": "https://localhost:8080/"
        },
        "id": "lwGwBCXWJs7k",
        "outputId": "0c8c3b19-3aa7-40a1-9717-0d666227b197"
      },
      "outputs": [
        {
          "output_type": "stream",
          "name": "stdout",
          "text": [
            "Mounted at /content/drive\n"
          ]
        }
      ],
      "source": [
        "from google.colab import drive\n",
        "drive.mount('/content/drive')"
      ]
    },
    {
      "cell_type": "code",
      "source": [
        "import numpy as np\n",
        "import pandas as pd\n",
        "import tensorflow as tf\n",
        "import re       # for emojis source https://stackoverflow.com/questions/33404752/removing-emojis-from-a-string-in-python\n",
        "import nltk     #for stop words\n",
        "from nltk.tokenize import word_tokenize #for stopwords\n",
        "from nltk.corpus import stopwords\n",
        "\n",
        "from tensorflow.keras import layers\n"
      ],
      "metadata": {
        "id": "MIP0ixkMJ2lM"
      },
      "execution_count": 4,
      "outputs": []
    },
    {
      "cell_type": "code",
      "source": [
        "nltk.download(\"stopwords\") \n",
        "nltk.download('punkt')\n",
        "all_stopwords = stopwords.words('english')\n",
        "all_stopwords.remove('not')"
      ],
      "metadata": {
        "colab": {
          "base_uri": "https://localhost:8080/"
        },
        "id": "dYtU5K_dcm4V",
        "outputId": "8e6b3065-3b9f-446d-a319-3684408eefc3"
      },
      "execution_count": 5,
      "outputs": [
        {
          "output_type": "stream",
          "name": "stdout",
          "text": [
            "[nltk_data] Downloading package stopwords to /root/nltk_data...\n",
            "[nltk_data]   Unzipping corpora/stopwords.zip.\n",
            "[nltk_data] Downloading package punkt to /root/nltk_data...\n",
            "[nltk_data]   Unzipping tokenizers/punkt.zip.\n"
          ]
        }
      ]
    },
    {
      "cell_type": "code",
      "source": [
        "from tensorflow.keras import Input\n",
        "from tensorflow.keras.layers import Activation\n",
        "from tensorflow.keras.layers import Bidirectional\n",
        "from tensorflow.keras.layers import Conv1D\n",
        "from tensorflow.keras.layers import Dense\n",
        "from tensorflow.keras.layers import Dropout\n",
        "from tensorflow.keras.layers import Embedding\n",
        "from tensorflow.keras.layers import InputLayer\n",
        "from tensorflow.keras.layers import LSTM\n",
        "from tensorflow.keras.layers import MaxPooling1D\n",
        "from tensorflow.keras.layers import SimpleRNN\n",
        "from tensorflow.keras.layers.experimental.preprocessing import TextVectorization\n",
        "from tensorflow.keras.models import Sequential\n",
        "from tensorflow.keras.preprocessing import text_dataset_from_directory\n",
        "from tensorflow.strings import regex_replace\n",
        "from sklearn.model_selection import train_test_split\n",
        "from tensorflow.keras.utils import to_categorical\n",
        "from tensorflow.keras.layers import GRU #\n",
        "from keras import regularizers\n",
        "import imblearn\n",
        "from imblearn.over_sampling import RandomOverSampler\n",
        "from imblearn.over_sampling import SMOTE\n",
        "import matplotlib.pyplot as plt\n",
        "import numpy as np\n",
        "import os\n",
        "import shutil\n",
        "import zipfile\n",
        "from collections import Counter\n",
        "from seaborn import heatmap\n",
        "from sklearn.metrics import classification_report\n",
        "from sklearn.metrics import confusion_matrix\n",
        "from keras.callbacks import EarlyStopping\n",
        "from keras.layers import TimeDistributed\n",
        "import seaborn as sn\n",
        "from tensorflow.keras.regularizers import l1_l2"
      ],
      "metadata": {
        "id": "v3vLv8nu7Whj"
      },
      "execution_count": 55,
      "outputs": []
    },
    {
      "cell_type": "markdown",
      "source": [
        "# Formatting and Reading Data"
      ],
      "metadata": {
        "id": "3PPYzPphGFEr"
      }
    },
    {
      "cell_type": "code",
      "source": [
        "dataframe = pd.read_csv('/content/drive/MyDrive/Tweets.csv')"
      ],
      "metadata": {
        "id": "CvAnxWBQJ8BH"
      },
      "execution_count": 8,
      "outputs": []
    },
    {
      "cell_type": "code",
      "source": [
        "dataframe.head()"
      ],
      "metadata": {
        "colab": {
          "base_uri": "https://localhost:8080/",
          "height": 452
        },
        "id": "xRDrrTySKJVb",
        "outputId": "208d406e-844a-4a47-8254-dd3ae1aa4a5b"
      },
      "execution_count": 9,
      "outputs": [
        {
          "output_type": "execute_result",
          "data": {
            "text/html": [
              "<div>\n",
              "<style scoped>\n",
              "    .dataframe tbody tr th:only-of-type {\n",
              "        vertical-align: middle;\n",
              "    }\n",
              "\n",
              "    .dataframe tbody tr th {\n",
              "        vertical-align: top;\n",
              "    }\n",
              "\n",
              "    .dataframe thead th {\n",
              "        text-align: right;\n",
              "    }\n",
              "</style>\n",
              "<table border=\"1\" class=\"dataframe\">\n",
              "  <thead>\n",
              "    <tr style=\"text-align: right;\">\n",
              "      <th></th>\n",
              "      <th>tweet_id</th>\n",
              "      <th>airline_sentiment</th>\n",
              "      <th>airline_sentiment_confidence</th>\n",
              "      <th>negativereason</th>\n",
              "      <th>negativereason_confidence</th>\n",
              "      <th>airline</th>\n",
              "      <th>airline_sentiment_gold</th>\n",
              "      <th>name</th>\n",
              "      <th>negativereason_gold</th>\n",
              "      <th>retweet_count</th>\n",
              "      <th>text</th>\n",
              "      <th>tweet_coord</th>\n",
              "      <th>tweet_created</th>\n",
              "      <th>tweet_location</th>\n",
              "      <th>user_timezone</th>\n",
              "    </tr>\n",
              "  </thead>\n",
              "  <tbody>\n",
              "    <tr>\n",
              "      <th>0</th>\n",
              "      <td>570306133677760513</td>\n",
              "      <td>neutral</td>\n",
              "      <td>1.0000</td>\n",
              "      <td>NaN</td>\n",
              "      <td>NaN</td>\n",
              "      <td>Virgin America</td>\n",
              "      <td>NaN</td>\n",
              "      <td>cairdin</td>\n",
              "      <td>NaN</td>\n",
              "      <td>0</td>\n",
              "      <td>@VirginAmerica What @dhepburn said.</td>\n",
              "      <td>NaN</td>\n",
              "      <td>2015-02-24 11:35:52 -0800</td>\n",
              "      <td>NaN</td>\n",
              "      <td>Eastern Time (US &amp; Canada)</td>\n",
              "    </tr>\n",
              "    <tr>\n",
              "      <th>1</th>\n",
              "      <td>570301130888122368</td>\n",
              "      <td>positive</td>\n",
              "      <td>0.3486</td>\n",
              "      <td>NaN</td>\n",
              "      <td>0.0000</td>\n",
              "      <td>Virgin America</td>\n",
              "      <td>NaN</td>\n",
              "      <td>jnardino</td>\n",
              "      <td>NaN</td>\n",
              "      <td>0</td>\n",
              "      <td>@VirginAmerica plus you've added commercials t...</td>\n",
              "      <td>NaN</td>\n",
              "      <td>2015-02-24 11:15:59 -0800</td>\n",
              "      <td>NaN</td>\n",
              "      <td>Pacific Time (US &amp; Canada)</td>\n",
              "    </tr>\n",
              "    <tr>\n",
              "      <th>2</th>\n",
              "      <td>570301083672813571</td>\n",
              "      <td>neutral</td>\n",
              "      <td>0.6837</td>\n",
              "      <td>NaN</td>\n",
              "      <td>NaN</td>\n",
              "      <td>Virgin America</td>\n",
              "      <td>NaN</td>\n",
              "      <td>yvonnalynn</td>\n",
              "      <td>NaN</td>\n",
              "      <td>0</td>\n",
              "      <td>@VirginAmerica I didn't today... Must mean I n...</td>\n",
              "      <td>NaN</td>\n",
              "      <td>2015-02-24 11:15:48 -0800</td>\n",
              "      <td>Lets Play</td>\n",
              "      <td>Central Time (US &amp; Canada)</td>\n",
              "    </tr>\n",
              "    <tr>\n",
              "      <th>3</th>\n",
              "      <td>570301031407624196</td>\n",
              "      <td>negative</td>\n",
              "      <td>1.0000</td>\n",
              "      <td>Bad Flight</td>\n",
              "      <td>0.7033</td>\n",
              "      <td>Virgin America</td>\n",
              "      <td>NaN</td>\n",
              "      <td>jnardino</td>\n",
              "      <td>NaN</td>\n",
              "      <td>0</td>\n",
              "      <td>@VirginAmerica it's really aggressive to blast...</td>\n",
              "      <td>NaN</td>\n",
              "      <td>2015-02-24 11:15:36 -0800</td>\n",
              "      <td>NaN</td>\n",
              "      <td>Pacific Time (US &amp; Canada)</td>\n",
              "    </tr>\n",
              "    <tr>\n",
              "      <th>4</th>\n",
              "      <td>570300817074462722</td>\n",
              "      <td>negative</td>\n",
              "      <td>1.0000</td>\n",
              "      <td>Can't Tell</td>\n",
              "      <td>1.0000</td>\n",
              "      <td>Virgin America</td>\n",
              "      <td>NaN</td>\n",
              "      <td>jnardino</td>\n",
              "      <td>NaN</td>\n",
              "      <td>0</td>\n",
              "      <td>@VirginAmerica and it's a really big bad thing...</td>\n",
              "      <td>NaN</td>\n",
              "      <td>2015-02-24 11:14:45 -0800</td>\n",
              "      <td>NaN</td>\n",
              "      <td>Pacific Time (US &amp; Canada)</td>\n",
              "    </tr>\n",
              "  </tbody>\n",
              "</table>\n",
              "</div>"
            ],
            "text/plain": [
              "             tweet_id  ...               user_timezone\n",
              "0  570306133677760513  ...  Eastern Time (US & Canada)\n",
              "1  570301130888122368  ...  Pacific Time (US & Canada)\n",
              "2  570301083672813571  ...  Central Time (US & Canada)\n",
              "3  570301031407624196  ...  Pacific Time (US & Canada)\n",
              "4  570300817074462722  ...  Pacific Time (US & Canada)\n",
              "\n",
              "[5 rows x 15 columns]"
            ]
          },
          "metadata": {},
          "execution_count": 9
        }
      ]
    },
    {
      "cell_type": "code",
      "source": [
        "dataframe['target'] = dataframe['airline_sentiment']\n",
        "dataframe['data'] = dataframe['text']"
      ],
      "metadata": {
        "id": "pLdua79aKOI-"
      },
      "execution_count": 10,
      "outputs": []
    },
    {
      "cell_type": "markdown",
      "source": [
        "#Preprocessing "
      ],
      "metadata": {
        "id": "1FQj7BUZFfP0"
      }
    },
    {
      "cell_type": "code",
      "source": [
        "# Change target from words to a numeric scale 0-neutral,1 negative, 2 positive\n",
        "def convert_Sentiment(val):\n",
        "    if  val == \"positive\":\n",
        "        return 2\n",
        "    elif val == \"neutral\":\n",
        "        return 0\n",
        "    elif val == \"negative\":\n",
        "        return 1"
      ],
      "metadata": {
        "id": "1BzmaJnINxXp"
      },
      "execution_count": 11,
      "outputs": []
    },
    {
      "cell_type": "code",
      "source": [
        "dataframe.target = dataframe.target.apply(lambda val : convert_Sentiment(val))"
      ],
      "metadata": {
        "id": "x6eQuzMbN1J5"
      },
      "execution_count": 12,
      "outputs": []
    },
    {
      "cell_type": "code",
      "source": [
        "Counter(dataframe.target)"
      ],
      "metadata": {
        "colab": {
          "base_uri": "https://localhost:8080/"
        },
        "id": "tEQGx8W6UlVb",
        "outputId": "bc734dc9-28a0-48bf-a2d6-1bab6277a301"
      },
      "execution_count": 13,
      "outputs": [
        {
          "output_type": "execute_result",
          "data": {
            "text/plain": [
              "Counter({0: 3099, 1: 9178, 2: 2363})"
            ]
          },
          "metadata": {},
          "execution_count": 13
        }
      ]
    },
    {
      "cell_type": "code",
      "source": [
        "dataframe['predata'] = dataframe['negativereason'].fillna('') + ' ' + dataframe['data']"
      ],
      "metadata": {
        "id": "dg7ww6v-Mrd0"
      },
      "execution_count": 14,
      "outputs": []
    },
    {
      "cell_type": "code",
      "source": [
        "## Preprocess \n",
        "def all_preprocessing(text):\n",
        "  \n",
        "  # Removes usernames eg. @UnitediAIrlines \n",
        "  text= re.sub('@[^\\s]+','',text)\n",
        "  \n",
        "  # Remove url  \n",
        "  url = re.compile(r'https?://\\S+|www\\.\\S+')\n",
        "  text= url.sub(r'',text)\n",
        "  \n",
        "  #removes emojis from text \n",
        "  emoji_pattern = re.compile(\"[\"\n",
        "        u\"\\U0001F600-\\U0001F64F\"  # emoticons\n",
        "        u\"\\U0001F300-\\U0001F5FF\"  # symbols & pictographs\n",
        "        u\"\\U0001F680-\\U0001F6FF\"  # transport & map symbols\n",
        "        u\"\\U0001F1E0-\\U0001F1FF\"  # flags (iOS)\n",
        "                           \"]+\", flags=re.UNICODE)\n",
        "  text=(emoji_pattern.sub(r'', text)) # no emoji\n",
        "  \n",
        "  # removes puntuation from text \n",
        "  punctuations = '''!()-[]{};:'\"\\,<>./?@#$%^&*_~'''\n",
        "  no_punct = \"\"\n",
        "  for char in text:\n",
        "    if char not in punctuations:\n",
        "        no_punct = no_punct + char\n",
        "  text=no_punct\n",
        "\n",
        "  # removes stop words \n",
        "  \n",
        "  text_tokens = word_tokenize(text)\n",
        "  tokens_without_sw = [word for word in text_tokens if not word in all_stopwords]\n",
        "  STWfree = (\" \").join(tokens_without_sw)\n",
        "  text=STWfree\n",
        "\n",
        "  # remove html line breaks with space \n",
        "  text=re.sub(r'<.*?>','',text)\n",
        "  \n",
        "  #converts all word to lower caase \n",
        "  text=text.lower()\n",
        "\n",
        "  #removing all numbers\n",
        "  text = ''.join([i for i in text if not i.isdigit()])\n",
        "  \n",
        "  return text"
      ],
      "metadata": {
        "id": "zWJ79C64RfA2"
      },
      "execution_count": 18,
      "outputs": []
    },
    {
      "cell_type": "code",
      "source": [
        "dataframe.predata = dataframe.predata.apply(lambda x : all_preprocessing(x))"
      ],
      "metadata": {
        "id": "rW8mCckdYRbr"
      },
      "execution_count": 19,
      "outputs": []
    },
    {
      "cell_type": "code",
      "source": [
        "print(dataframe['predata'])"
      ],
      "metadata": {
        "colab": {
          "base_uri": "https://localhost:8080/"
        },
        "id": "8cn26AaPdh2F",
        "outputId": "fd3a4f59-7583-40bb-a4fa-30aed34421a8"
      },
      "execution_count": 20,
      "outputs": [
        {
          "output_type": "stream",
          "name": "stdout",
          "text": [
            "0                                                     said\n",
            "1            plus youve added commercials experience tacky\n",
            "2             didnt today must mean need take another trip\n",
            "3        bad flight really aggressive blast obnoxious e...\n",
            "4                           cant tell really big bad thing\n",
            "                               ...                        \n",
            "14635                   thank got different flight chicago\n",
            "14636    customer service issue leaving minutes late fl...\n",
            "14637            please bring american airlines blackberry\n",
            "14638    customer service issue money change flight don...\n",
            "14639    ppl need know many seats next flight plz put u...\n",
            "Name: predata, Length: 14640, dtype: object\n"
          ]
        }
      ]
    },
    {
      "cell_type": "code",
      "source": [
        "dataframe = dataframe.drop(columns=['tweet_id', 'airline_sentiment','airline_sentiment_confidence','negativereason','negativereason_confidence','airline','airline_sentiment_gold','name','negativereason_gold','retweet_count','text','tweet_coord','tweet_created','tweet_location','user_timezone','data'])"
      ],
      "metadata": {
        "id": "HHK2i9zot-Nb"
      },
      "execution_count": 21,
      "outputs": []
    },
    {
      "cell_type": "code",
      "source": [
        "ALL_Data=[]\n",
        "ALL_Labels=[]\n",
        "#(dataframe['predata'])\n",
        "ALL_Data= dataframe[['predata']].to_numpy()\n",
        "ALL_Labels=dataframe[['target']].to_numpy()"
      ],
      "metadata": {
        "id": "9GS5jfxsg5PO"
      },
      "execution_count": 22,
      "outputs": []
    },
    {
      "cell_type": "code",
      "source": [
        "print(ALL_Data.shape)\n",
        "print(ALL_Labels.shape)"
      ],
      "metadata": {
        "colab": {
          "base_uri": "https://localhost:8080/"
        },
        "id": "zgt2cke5hLnl",
        "outputId": "ebfef72a-5200-46c7-b057-6954bde3f3e6"
      },
      "execution_count": 23,
      "outputs": [
        {
          "output_type": "stream",
          "name": "stdout",
          "text": [
            "(14640, 1)\n",
            "(14640, 1)\n"
          ]
        }
      ]
    },
    {
      "cell_type": "code",
      "source": [
        "ALL_Data=ALL_Data.reshape(-1)\n",
        "ALL_Labels=ALL_Labels.reshape(-1)"
      ],
      "metadata": {
        "id": "uTIvQRrMhn67"
      },
      "execution_count": 24,
      "outputs": []
    },
    {
      "cell_type": "code",
      "source": [
        "print(ALL_Data)"
      ],
      "metadata": {
        "colab": {
          "base_uri": "https://localhost:8080/"
        },
        "id": "1-aBA3xEkN3r",
        "outputId": "0316cce1-44f7-4329-dc59-721bcfccd928"
      },
      "execution_count": 25,
      "outputs": [
        {
          "output_type": "stream",
          "name": "stdout",
          "text": [
            "['said' 'plus youve added commercials experience tacky'\n",
            " 'didnt today must mean need take another trip' ...\n",
            " 'please bring american airlines blackberry'\n",
            " 'customer service issue money change flight dont answer phones suggestions make commitment'\n",
            " 'ppl need know many seats next flight plz put us standby people next flight']\n"
          ]
        }
      ]
    },
    {
      "cell_type": "code",
      "source": [
        "print(ALL_Labels)"
      ],
      "metadata": {
        "colab": {
          "base_uri": "https://localhost:8080/"
        },
        "id": "7RsXIEiPhrQa",
        "outputId": "e37f3cbf-1348-4185-df86-4aefae216a1f"
      },
      "execution_count": 26,
      "outputs": [
        {
          "output_type": "stream",
          "name": "stdout",
          "text": [
            "[0 2 0 ... 0 1 0]\n"
          ]
        }
      ]
    },
    {
      "cell_type": "markdown",
      "source": [
        "# Balancing Dataset"
      ],
      "metadata": {
        "id": "cMjvh5JsYqzo"
      }
    },
    {
      "cell_type": "code",
      "source": [
        "Counter(ALL_Labels)"
      ],
      "metadata": {
        "colab": {
          "base_uri": "https://localhost:8080/"
        },
        "id": "y7udFu17Izdr",
        "outputId": "49e1e7b3-8d59-487a-babd-f904a9ab3328"
      },
      "execution_count": 27,
      "outputs": [
        {
          "output_type": "execute_result",
          "data": {
            "text/plain": [
              "Counter({0: 3099, 1: 9178, 2: 2363})"
            ]
          },
          "metadata": {},
          "execution_count": 27
        }
      ]
    },
    {
      "cell_type": "code",
      "source": [
        "ALL_Data=ALL_Data.reshape(-1,1)\n",
        "ALL_Labels=ALL_Labels.reshape(-1,1)"
      ],
      "metadata": {
        "id": "IwYNk5IENAYg"
      },
      "execution_count": 28,
      "outputs": []
    },
    {
      "cell_type": "code",
      "source": [
        "#fix imbalanced data\n",
        "oversample = RandomOverSampler(sampling_strategy='all')\n",
        "X_over, y_over = oversample.fit_resample(ALL_Data, ALL_Labels)"
      ],
      "metadata": {
        "id": "azRo1jpkIJeH"
      },
      "execution_count": 29,
      "outputs": []
    },
    {
      "cell_type": "code",
      "source": [
        "ALL_Data=X_over.reshape(-1)\n",
        "ALL_Labels=y_over.reshape(-1)"
      ],
      "metadata": {
        "id": "k_znakFhNJCl"
      },
      "execution_count": 30,
      "outputs": []
    },
    {
      "cell_type": "code",
      "source": [
        "print(ALL_Labels.shape)\n",
        "print(ALL_Data.shape)"
      ],
      "metadata": {
        "colab": {
          "base_uri": "https://localhost:8080/"
        },
        "id": "S64YwKdUNtjF",
        "outputId": "503a9ea2-19a1-4622-cb11-9d528c3fd34c"
      },
      "execution_count": 31,
      "outputs": [
        {
          "output_type": "stream",
          "name": "stdout",
          "text": [
            "(27534,)\n",
            "(27534,)\n"
          ]
        }
      ]
    },
    {
      "cell_type": "code",
      "source": [
        "Counter(ALL_Labels)"
      ],
      "metadata": {
        "colab": {
          "base_uri": "https://localhost:8080/"
        },
        "id": "raidLFPoNE80",
        "outputId": "2f53c84a-5d15-4047-986a-df6a952b4121"
      },
      "execution_count": 32,
      "outputs": [
        {
          "output_type": "execute_result",
          "data": {
            "text/plain": [
              "Counter({0: 9178, 1: 9178, 2: 9178})"
            ]
          },
          "metadata": {},
          "execution_count": 32
        }
      ]
    },
    {
      "cell_type": "code",
      "source": [
        "print(ALL_Labels)"
      ],
      "metadata": {
        "colab": {
          "base_uri": "https://localhost:8080/"
        },
        "id": "X-11lN-5gB3C",
        "outputId": "77b51aef-2181-4dd2-80d7-a6700685235d"
      },
      "execution_count": 33,
      "outputs": [
        {
          "output_type": "stream",
          "name": "stdout",
          "text": [
            "[0 2 0 ... 2 2 2]\n"
          ]
        }
      ]
    },
    {
      "cell_type": "markdown",
      "source": [
        "# Train Test Split"
      ],
      "metadata": {
        "id": "QFpMpfS_eR2_"
      }
    },
    {
      "cell_type": "code",
      "source": [
        "ALL_Labels = to_categorical(ALL_Labels, 3)"
      ],
      "metadata": {
        "id": "UhdfvhwCkfai"
      },
      "execution_count": 34,
      "outputs": []
    },
    {
      "cell_type": "code",
      "source": [
        "print(ALL_Labels.shape)"
      ],
      "metadata": {
        "colab": {
          "base_uri": "https://localhost:8080/"
        },
        "id": "bnr_Qzdak21G",
        "outputId": "06bb714f-6b33-452f-8bf7-2fe31464e456"
      },
      "execution_count": 35,
      "outputs": [
        {
          "output_type": "stream",
          "name": "stdout",
          "text": [
            "(27534, 3)\n"
          ]
        }
      ]
    },
    {
      "cell_type": "code",
      "source": [
        "(trainX, testX, trainY, testY) = train_test_split(ALL_Data,ALL_Labels, test_size = 0.40)"
      ],
      "metadata": {
        "id": "b3rnBqH0h3Mc"
      },
      "execution_count": 36,
      "outputs": []
    },
    {
      "cell_type": "code",
      "source": [
        "print(trainX.shape)\n",
        "print(trainY.shape)"
      ],
      "metadata": {
        "colab": {
          "base_uri": "https://localhost:8080/"
        },
        "id": "FtgLdXzZjGIA",
        "outputId": "5a8e7a4e-0bc7-4da3-df24-8be27ac59ca5"
      },
      "execution_count": 37,
      "outputs": [
        {
          "output_type": "stream",
          "name": "stdout",
          "text": [
            "(16520,)\n",
            "(16520, 3)\n"
          ]
        }
      ]
    },
    {
      "cell_type": "code",
      "source": [
        "print(testX.shape)\n",
        "print(testY.shape)"
      ],
      "metadata": {
        "colab": {
          "base_uri": "https://localhost:8080/"
        },
        "id": "s5vB_8IGl310",
        "outputId": "ccfb0439-b4ce-44e1-a8a1-5cf5f7b4f279"
      },
      "execution_count": 38,
      "outputs": [
        {
          "output_type": "stream",
          "name": "stdout",
          "text": [
            "(11014,)\n",
            "(11014, 3)\n"
          ]
        }
      ]
    },
    {
      "cell_type": "markdown",
      "source": [
        "#Benchmark\n",
        "\n",
        "Model only one fully connected recurrent layer"
      ],
      "metadata": {
        "id": "FL7AIZFgRVQJ"
      }
    },
    {
      "cell_type": "code",
      "source": [
        "#maxTokens = 1000\n",
        "vectorizeLayer = TextVectorization(output_mode = 'int')\n",
        "vectorizeLayer.adapt(trainX)\n",
        "model = Sequential()\n",
        "\n",
        "model.add(Input(shape=(1,), dtype = 'string'))\n",
        "\n",
        "# add layer to the model\n",
        "model.add(vectorizeLayer)\n",
        "\n",
        "# add an embedding layer to turn integers into fixed-length vectors\n",
        "#model.add(Embedding(maxTokens + 1, 128))\n",
        "model.add(Embedding(vectorizeLayer.vocabulary_size(), 128))\n",
        "# add a dense layer\n",
        "model.add(Dense(64, activation = 'relu'))\n",
        "\n",
        "# add a dense layer\n",
        "model.add(Dense(64, activation = 'relu'))\n",
        "\n",
        "model.add(SimpleRNN(64))\n",
        "# add softmax classifier\n",
        "model.add(Dense(3, activation = 'softmax'))"
      ],
      "metadata": {
        "id": "xUF_UW0p7Reu"
      },
      "execution_count": 36,
      "outputs": []
    },
    {
      "cell_type": "code",
      "source": [
        "model.compile(optimizer = 'adam', loss = 'categorical_crossentropy', metrics = ['acc'])\n",
        "model.summary()"
      ],
      "metadata": {
        "id": "U4qzndERSmZj",
        "colab": {
          "base_uri": "https://localhost:8080/"
        },
        "outputId": "96398eaf-ae64-4b45-bf69-11495115f336"
      },
      "execution_count": 37,
      "outputs": [
        {
          "output_type": "stream",
          "name": "stdout",
          "text": [
            "Model: \"sequential\"\n",
            "_________________________________________________________________\n",
            " Layer (type)                Output Shape              Param #   \n",
            "=================================================================\n",
            " text_vectorization (TextVec  (None, None)             0         \n",
            " torization)                                                     \n",
            "                                                                 \n",
            " embedding (Embedding)       (None, None, 128)         1329536   \n",
            "                                                                 \n",
            " dense (Dense)               (None, None, 64)          8256      \n",
            "                                                                 \n",
            " dense_1 (Dense)             (None, None, 64)          4160      \n",
            "                                                                 \n",
            " simple_rnn (SimpleRNN)      (None, 64)                8256      \n",
            "                                                                 \n",
            " dense_2 (Dense)             (None, 3)                 195       \n",
            "                                                                 \n",
            "=================================================================\n",
            "Total params: 1,350,403\n",
            "Trainable params: 1,350,403\n",
            "Non-trainable params: 0\n",
            "_________________________________________________________________\n"
          ]
        }
      ]
    },
    {
      "cell_type": "code",
      "source": [
        "epochs = 10\n",
        "\n",
        "H = model.fit(trainX,trainY,validation_split=0.2,epochs = epochs)\n",
        "\n",
        "plt.style.use('ggplot')\n",
        "plt.figure()\n",
        "plt.plot(np.arange(0, epochs), H.history['loss'], label = 'train_loss')\n",
        "plt.plot(np.arange(0, epochs), H.history['val_loss'], label = 'val_loss')\n",
        "plt.plot(np.arange(0, epochs), H.history['acc'], label = 'train_acc')\n",
        "plt.plot(np.arange(0, epochs), H.history['val_acc'], label = 'val_acc')\n",
        "    \n",
        "# add labels and legend\n",
        "plt.title('Training Loss and Accuracy')\n",
        "plt.xlabel('Epoch #')\n",
        "plt.ylabel('Loss/Accuracy')\n",
        "plt.legend()"
      ],
      "metadata": {
        "colab": {
          "base_uri": "https://localhost:8080/",
          "height": 663
        },
        "id": "tPdpHdZBCook",
        "outputId": "82b1f7db-65c2-4d1f-8c1e-06c30d00df99"
      },
      "execution_count": 38,
      "outputs": [
        {
          "output_type": "stream",
          "name": "stdout",
          "text": [
            "Epoch 1/10\n",
            "413/413 [==============================] - 10s 19ms/step - loss: 0.8051 - acc: 0.5555 - val_loss: 0.6495 - val_acc: 0.6392\n",
            "Epoch 2/10\n",
            "413/413 [==============================] - 7s 18ms/step - loss: 0.6539 - acc: 0.6378 - val_loss: 0.5432 - val_acc: 0.6531\n",
            "Epoch 3/10\n",
            "413/413 [==============================] - 7s 18ms/step - loss: 0.5298 - acc: 0.6559 - val_loss: 0.5212 - val_acc: 0.6544\n",
            "Epoch 4/10\n",
            "413/413 [==============================] - 7s 18ms/step - loss: 0.5151 - acc: 0.6614 - val_loss: 0.5130 - val_acc: 0.6577\n",
            "Epoch 5/10\n",
            "413/413 [==============================] - 7s 18ms/step - loss: 0.4997 - acc: 0.6687 - val_loss: 0.4994 - val_acc: 0.6752\n",
            "Epoch 6/10\n",
            "413/413 [==============================] - 7s 18ms/step - loss: 0.5138 - acc: 0.6640 - val_loss: 0.5681 - val_acc: 0.6798\n",
            "Epoch 7/10\n",
            "413/413 [==============================] - 8s 18ms/step - loss: 0.7374 - acc: 0.5996 - val_loss: 1.0834 - val_acc: 0.3720\n",
            "Epoch 8/10\n",
            "413/413 [==============================] - 7s 18ms/step - loss: 0.8469 - acc: 0.5347 - val_loss: 0.7834 - val_acc: 0.6017\n",
            "Epoch 9/10\n",
            "413/413 [==============================] - 7s 17ms/step - loss: 0.7101 - acc: 0.6147 - val_loss: 0.7016 - val_acc: 0.6105\n",
            "Epoch 10/10\n",
            "413/413 [==============================] - 7s 18ms/step - loss: 0.6695 - acc: 0.6299 - val_loss: 0.6673 - val_acc: 0.6326\n"
          ]
        },
        {
          "output_type": "execute_result",
          "data": {
            "text/plain": [
              "<matplotlib.legend.Legend at 0x7fe996fda790>"
            ]
          },
          "metadata": {},
          "execution_count": 38
        },
        {
          "output_type": "display_data",
          "data": {
            "image/png": "[encoded data removed]",
            "text/plain": [
              "<Figure size 432x288 with 1 Axes>"
            ]
          },
          "metadata": {}
        }
      ]
    },
    {
      "cell_type": "code",
      "source": [
        "# printing classification report for Training Data\n",
        "print('\\nTrain Accuracy')\n",
        "predictedY = model.predict(trainX)\n",
        "predictedY = predictedY.argmax(axis=1)\n",
        "trainyTB = trainY.argmax(axis=1)\n",
        "print(classification_report(trainyTB, predictedY))\n",
        "heatmap(confusion_matrix(trainyTB, predictedY), annot=True)"
      ],
      "metadata": {
        "colab": {
          "base_uri": "https://localhost:8080/",
          "height": 491
        },
        "id": "jXqfAljkaWkb",
        "outputId": "136642a9-1f1e-416a-b083-fc4058fa396d"
      },
      "execution_count": 39,
      "outputs": [
        {
          "output_type": "stream",
          "name": "stdout",
          "text": [
            "\n",
            "Train Accuracy\n",
            "              precision    recall  f1-score   support\n",
            "\n",
            "           0       0.49      0.28      0.36      5523\n",
            "           1       0.90      0.93      0.91      5520\n",
            "           2       0.51      0.72      0.60      5477\n",
            "\n",
            "    accuracy                           0.64     16520\n",
            "   macro avg       0.64      0.64      0.62     16520\n",
            "weighted avg       0.64      0.64      0.62     16520\n",
            "\n"
          ]
        },
        {
          "output_type": "execute_result",
          "data": {
            "text/plain": [
              "<matplotlib.axes._subplots.AxesSubplot at 0x7fe995a366d0>"
            ]
          },
          "metadata": {},
          "execution_count": 39
        },
        {
          "output_type": "display_data",
          "data": {
            "image/png": "[encoded data removed]",
            "text/plain": [
              "<Figure size 432x288 with 2 Axes>"
            ]
          },
          "metadata": {}
        }
      ]
    },
    {
      "cell_type": "markdown",
      "source": [
        "Overfitting occurs in the bench mark cn be seen from how the accuracy stagnates.For experiments the architecture of the benchmark will be built on, overfitting will be reduced and other models will be tested.\n"
      ],
      "metadata": {
        "id": "nmVDGAu_SYZF"
      }
    },
    {
      "cell_type": "markdown",
      "source": [
        "# Experiment 1-Using dropout layers to mitigate overfitting."
      ],
      "metadata": {
        "id": "-f5x3-NEnGIT"
      }
    },
    {
      "cell_type": "code",
      "source": [
        "class experiment2:\n",
        "  def build(dropout=[[0,0,0]]):\n",
        "    vectorizeLayer = TextVectorization(output_mode = 'int')\n",
        "\n",
        "    # adapt() fits the TextVectorization layer to our text dataset. This is when the\n",
        "    vectorizeLayer.adapt(trainX)\n",
        "\n",
        "    model = Sequential()\n",
        "\n",
        "    model.add(Input(shape=(1,), dtype = 'string'))\n",
        "\n",
        "    # text vectorization layer\n",
        "    model.add(vectorizeLayer)\n",
        "\n",
        "    # add an embedding layer to turn integers into fixed-length vectors\n",
        "    model.add(Embedding(vectorizeLayer.vocabulary_size(), 128))\n",
        "    model.add(Dropout(dropout[0]))\n",
        "\n",
        "    # add a fully-connected recurrent layer\n",
        "    #model.add(Bidirectional(SimpleRNN(64)))\n",
        "    model.add(SimpleRNN(64))\n",
        "    # add a dense layer\n",
        "    model.add(Dense(64, activation = 'relu'))\n",
        "    model.add(Dropout(dropout[2]))\n",
        "\n",
        "    # add softmax classifier\n",
        "    model.add(Dense(3, activation = 'softmax'))\n",
        "    return model"
      ],
      "metadata": {
        "id": "2w1eG5MWngAK"
      },
      "execution_count": 40,
      "outputs": []
    },
    {
      "cell_type": "code",
      "source": [
        "epochs = 10\n",
        "#dropout=[[0.2,0.0,0.5],]\n",
        "model = experiment2.build(dropout=[0.2,0.0,0.5])\n",
        "model.compile(optimizer = 'adam', loss = 'categorical_crossentropy', metrics = ['acc'])\n",
        "model.summary()\n",
        "H = model.fit(trainX,trainY,validation_split=0.2,epochs = epochs)\n",
        "\n",
        "plt.style.use('ggplot')\n",
        "plt.figure()\n",
        "plt.plot(np.arange(0, epochs), H.history['loss'], label = 'train_loss')\n",
        "plt.plot(np.arange(0, epochs), H.history['val_loss'], label = 'val_loss')\n",
        "plt.plot(np.arange(0, epochs), H.history['acc'], label = 'train_acc')\n",
        "plt.plot(np.arange(0, epochs), H.history['val_acc'], label = 'val_acc')\n",
        "    \n",
        "# add labels and legend\n",
        "plt.title('Training Loss and Accuracy')\n",
        "plt.xlabel('Epoch #')\n",
        "plt.ylabel('Loss/Accuracy')\n",
        "plt.legend()"
      ],
      "metadata": {
        "colab": {
          "base_uri": "https://localhost:8080/",
          "height": 1000
        },
        "id": "P-NF3OhunhXb",
        "outputId": "b8dc74b7-1807-43a9-f9f0-99ea58524e83"
      },
      "execution_count": 41,
      "outputs": [
        {
          "output_type": "stream",
          "name": "stdout",
          "text": [
            "Model: \"sequential_1\"\n",
            "_________________________________________________________________\n",
            " Layer (type)                Output Shape              Param #   \n",
            "=================================================================\n",
            " text_vectorization_1 (TextV  (None, None)             0         \n",
            " ectorization)                                                   \n",
            "                                                                 \n",
            " embedding_1 (Embedding)     (None, None, 128)         1329536   \n",
            "                                                                 \n",
            " dropout (Dropout)           (None, None, 128)         0         \n",
            "                                                                 \n",
            " simple_rnn_1 (SimpleRNN)    (None, 64)                12352     \n",
            "                                                                 \n",
            " dense_3 (Dense)             (None, 64)                4160      \n",
            "                                                                 \n",
            " dropout_1 (Dropout)         (None, 64)                0         \n",
            "                                                                 \n",
            " dense_4 (Dense)             (None, 3)                 195       \n",
            "                                                                 \n",
            "=================================================================\n",
            "Total params: 1,346,243\n",
            "Trainable params: 1,346,243\n",
            "Non-trainable params: 0\n",
            "_________________________________________________________________\n",
            "Epoch 1/10\n",
            "413/413 [==============================] - 8s 17ms/step - loss: 0.5766 - acc: 0.6537 - val_loss: 0.5664 - val_acc: 0.6519\n",
            "Epoch 2/10\n",
            "413/413 [==============================] - 8s 18ms/step - loss: 0.5422 - acc: 0.6786 - val_loss: 0.4156 - val_acc: 0.8117\n",
            "Epoch 3/10\n",
            "413/413 [==============================] - 7s 18ms/step - loss: 0.3191 - acc: 0.8854 - val_loss: 0.2605 - val_acc: 0.9028\n",
            "Epoch 4/10\n",
            "413/413 [==============================] - 7s 17ms/step - loss: 0.1965 - acc: 0.9401 - val_loss: 0.2137 - val_acc: 0.9298\n",
            "Epoch 5/10\n",
            "413/413 [==============================] - 7s 17ms/step - loss: 0.1561 - acc: 0.9558 - val_loss: 0.2129 - val_acc: 0.9367\n",
            "Epoch 6/10\n",
            "413/413 [==============================] - 7s 16ms/step - loss: 0.1417 - acc: 0.9586 - val_loss: 0.1792 - val_acc: 0.9501\n",
            "Epoch 7/10\n",
            "413/413 [==============================] - 7s 17ms/step - loss: 0.1053 - acc: 0.9725 - val_loss: 0.1710 - val_acc: 0.9525\n",
            "Epoch 8/10\n",
            "413/413 [==============================] - 7s 17ms/step - loss: 0.0921 - acc: 0.9756 - val_loss: 0.2432 - val_acc: 0.9280\n",
            "Epoch 9/10\n",
            "413/413 [==============================] - 7s 17ms/step - loss: 0.0830 - acc: 0.9798 - val_loss: 0.1804 - val_acc: 0.9458\n",
            "Epoch 10/10\n",
            "413/413 [==============================] - 7s 16ms/step - loss: 0.0982 - acc: 0.9767 - val_loss: 0.1706 - val_acc: 0.9485\n"
          ]
        },
        {
          "output_type": "execute_result",
          "data": {
            "text/plain": [
              "<matplotlib.legend.Legend at 0x7fe995d70e50>"
            ]
          },
          "metadata": {},
          "execution_count": 41
        },
        {
          "output_type": "display_data",
          "data": {
            "image/png": "[encoded data removed]",
            "text/plain": [
              "<Figure size 432x288 with 1 Axes>"
            ]
          },
          "metadata": {}
        }
      ]
    },
    {
      "cell_type": "markdown",
      "source": [
        "# Experiment 2 - Using regularization on Dense layers to mitigate overfitting"
      ],
      "metadata": {
        "id": "yTqQWR_snycc"
      }
    },
    {
      "cell_type": "code",
      "source": [
        "class experiment2:\n",
        "  def build(dropout=[[0,0,0]]):\n",
        "    vectorizeLayer = TextVectorization(output_mode = 'int')\n",
        "\n",
        "    # adapt() fits the TextVectorization layer to our text dataset. This is when the\n",
        "    vectorizeLayer.adapt(trainX)\n",
        "\n",
        "    model = Sequential()\n",
        "\n",
        "    model.add(Input(shape=(1,), dtype = 'string'))\n",
        "\n",
        "    # text vectorization layer\n",
        "    model.add(vectorizeLayer)\n",
        "\n",
        "    # add an embedding layer to turn integers into fixed-length vectors\n",
        "    model.add(Embedding(vectorizeLayer.vocabulary_size(), 128))\n",
        "    #model.add(Dropout(dropout[0]))\n",
        "\n",
        "    # add a fully-connected recurrent layer\n",
        "    #model.add(Bidirectional(SimpleRNN(64)))\n",
        "    model.add(SimpleRNN(64))\n",
        "    # add a dense layer\n",
        "    model.add(Dense(64, activation = 'relu',kernel_regularizer=regularizers.l2(0.01)))\n",
        "    #model.add(Dropout(dropout[2]))\n",
        "\n",
        "    # add softmax classifier\n",
        "    model.add(Dense(3, activation = 'softmax'))\n",
        "    return model"
      ],
      "metadata": {
        "id": "5EZOsnAlrOJh"
      },
      "execution_count": 57,
      "outputs": []
    },
    {
      "cell_type": "code",
      "source": [
        "epochs = 10\n",
        "#dropout=[[0.2,0.0,0.5],]\n",
        "model = experiment2.build(dropout=[0.2,0.0,0.5])\n",
        "model.compile(optimizer = 'adam', loss = 'categorical_crossentropy', metrics = ['acc'])\n",
        "model.summary()\n",
        "H = model.fit(trainX,trainY,validation_split=0.2,epochs = epochs)\n",
        "\n",
        "plt.style.use('ggplot')\n",
        "plt.figure()\n",
        "plt.plot(np.arange(0, epochs), H.history['loss'], label = 'train_loss')\n",
        "plt.plot(np.arange(0, epochs), H.history['val_loss'], label = 'val_loss')\n",
        "plt.plot(np.arange(0, epochs), H.history['acc'], label = 'train_acc')\n",
        "plt.plot(np.arange(0, epochs), H.history['val_acc'], label = 'val_acc')\n",
        "    \n",
        "# add labels and legend\n",
        "plt.title('Training Loss and Accuracy')\n",
        "plt.xlabel('Epoch #')\n",
        "plt.ylabel('Loss/Accuracy')\n",
        "plt.legend()"
      ],
      "metadata": {
        "colab": {
          "base_uri": "https://localhost:8080/",
          "height": 1000
        },
        "id": "NhObPGwXrpTX",
        "outputId": "8b594e49-3424-42e4-9ac7-c6f63c3ba959"
      },
      "execution_count": 51,
      "outputs": [
        {
          "output_type": "stream",
          "name": "stdout",
          "text": [
            "Model: \"sequential_4\"\n",
            "_________________________________________________________________\n",
            " Layer (type)                Output Shape              Param #   \n",
            "=================================================================\n",
            " text_vectorization_4 (TextV  (None, None)             0         \n",
            " ectorization)                                                   \n",
            "                                                                 \n",
            " embedding_4 (Embedding)     (None, None, 128)         1329536   \n",
            "                                                                 \n",
            " simple_rnn_4 (SimpleRNN)    (None, 64)                12352     \n",
            "                                                                 \n",
            " dense_7 (Dense)             (None, 64)                4160      \n",
            "                                                                 \n",
            " dense_8 (Dense)             (None, 3)                 195       \n",
            "                                                                 \n",
            "=================================================================\n",
            "Total params: 1,346,243\n",
            "Trainable params: 1,346,243\n",
            "Non-trainable params: 0\n",
            "_________________________________________________________________\n",
            "Epoch 1/10\n",
            "413/413 [==============================] - 8s 18ms/step - loss: 0.7861 - acc: 0.6434 - val_loss: 0.6158 - val_acc: 0.6643\n",
            "Epoch 2/10\n",
            "413/413 [==============================] - 7s 16ms/step - loss: 0.4890 - acc: 0.7764 - val_loss: 0.3395 - val_acc: 0.8798\n",
            "Epoch 3/10\n",
            "413/413 [==============================] - 7s 17ms/step - loss: 0.2754 - acc: 0.9141 - val_loss: 0.2914 - val_acc: 0.9107\n",
            "Epoch 4/10\n",
            "413/413 [==============================] - 7s 17ms/step - loss: 0.2149 - acc: 0.9401 - val_loss: 0.2996 - val_acc: 0.9068\n",
            "Epoch 5/10\n",
            "413/413 [==============================] - 7s 17ms/step - loss: 0.1690 - acc: 0.9545 - val_loss: 0.2263 - val_acc: 0.9367\n",
            "Epoch 6/10\n",
            "413/413 [==============================] - 7s 16ms/step - loss: 0.1481 - acc: 0.9633 - val_loss: 0.2186 - val_acc: 0.9392\n",
            "Epoch 7/10\n",
            "413/413 [==============================] - 7s 17ms/step - loss: 0.1506 - acc: 0.9641 - val_loss: 0.2323 - val_acc: 0.9398\n",
            "Epoch 8/10\n",
            "413/413 [==============================] - 7s 16ms/step - loss: 0.2869 - acc: 0.9165 - val_loss: 0.6604 - val_acc: 0.7682\n",
            "Epoch 9/10\n",
            "413/413 [==============================] - 7s 16ms/step - loss: 0.2588 - acc: 0.9186 - val_loss: 0.2702 - val_acc: 0.9195\n",
            "Epoch 10/10\n",
            "413/413 [==============================] - 7s 16ms/step - loss: 0.1482 - acc: 0.9625 - val_loss: 0.2272 - val_acc: 0.9413\n"
          ]
        },
        {
          "output_type": "execute_result",
          "data": {
            "text/plain": [
              "<matplotlib.legend.Legend at 0x7fe9905d0a10>"
            ]
          },
          "metadata": {},
          "execution_count": 51
        },
        {
          "output_type": "display_data",
          "data": {
            "image/png": "[encoded data removed]",
            "text/plain": [
              "<Figure size 432x288 with 1 Axes>"
            ]
          },
          "metadata": {}
        }
      ]
    },
    {
      "cell_type": "markdown",
      "source": [
        "#Experiment 3 implementing early stopping to help mitigate overfitting "
      ],
      "metadata": {
        "id": "5BGWguv4zOrt"
      }
    },
    {
      "cell_type": "code",
      "source": [
        "class experiment2:\n",
        "  def build(dropout=[[0,0,0]]):\n",
        "    vectorizeLayer = TextVectorization(output_mode = 'int')\n",
        "\n",
        "    # adapt() fits the TextVectorization layer to our text dataset. This is when the\n",
        "    vectorizeLayer.adapt(trainX)\n",
        "\n",
        "    model = Sequential()\n",
        "\n",
        "    model.add(Input(shape=(1,), dtype = 'string'))\n",
        "\n",
        "    # text vectorization layer\n",
        "    model.add(vectorizeLayer)\n",
        "\n",
        "    # add an embedding layer to turn integers into fixed-length vectors\n",
        "    model.add(Embedding(vectorizeLayer.vocabulary_size(), 128))\n",
        "    #model.add(Dropout(dropout[0]))\n",
        "\n",
        "    # add a fully-connected recurrent layer\n",
        "    #model.add(Bidirectional(SimpleRNN(64)))\n",
        "    model.add(SimpleRNN(64))\n",
        "    # add a dense layer\n",
        "    model.add(Dense(64, activation = 'relu',kernel_regularizer=regularizers.l2(0.01)))\n",
        "    #model.add(Dropout(dropout[2]))\n",
        "\n",
        "    # add softmax classifier\n",
        "    model.add(Dense(3, activation = 'softmax'))\n",
        "    return model"
      ],
      "metadata": {
        "id": "vU2UMKfzx-pV"
      },
      "execution_count": 59,
      "outputs": []
    },
    {
      "cell_type": "code",
      "source": [
        "epochs = 10\n",
        "#dropout=[[0.2,0.0,0.5],]\n",
        "es = EarlyStopping(monitor='val_loss',patience=5)\n",
        "model = experiment2.build(dropout=[0.2,0.0,0.5])\n",
        "model.compile(optimizer = 'adam', loss = 'categorical_crossentropy', metrics = ['acc'])\n",
        "model.summary()\n",
        "H = model.fit(trainX,trainY,validation_split=0.2,epochs = epochs,callbacks=[es])\n",
        "\n",
        "plt.style.use('ggplot')\n",
        "plt.figure()\n",
        "plt.plot(np.arange(0, epochs), H.history['loss'], label = 'train_loss')\n",
        "plt.plot(np.arange(0, epochs), H.history['val_loss'], label = 'val_loss')\n",
        "plt.plot(np.arange(0, epochs), H.history['acc'], label = 'train_acc')\n",
        "plt.plot(np.arange(0, epochs), H.history['val_acc'], label = 'val_acc')\n",
        "    \n",
        "# add labels and legend\n",
        "plt.title('Training Loss and Accuracy')\n",
        "plt.xlabel('Epoch #')\n",
        "plt.ylabel('Loss/Accuracy')\n",
        "plt.legend()"
      ],
      "metadata": {
        "colab": {
          "base_uri": "https://localhost:8080/",
          "height": 1000
        },
        "id": "YoZPu6qlyGHJ",
        "outputId": "2e9efe77-4082-426d-df11-6beda8c4af63"
      },
      "execution_count": 65,
      "outputs": [
        {
          "output_type": "stream",
          "name": "stdout",
          "text": [
            "Model: \"sequential_11\"\n",
            "_________________________________________________________________\n",
            " Layer (type)                Output Shape              Param #   \n",
            "=================================================================\n",
            " text_vectorization_11 (Text  (None, None)             0         \n",
            " Vectorization)                                                  \n",
            "                                                                 \n",
            " embedding_11 (Embedding)    (None, None, 128)         1329536   \n",
            "                                                                 \n",
            " simple_rnn_11 (SimpleRNN)   (None, 64)                12352     \n",
            "                                                                 \n",
            " dense_21 (Dense)            (None, 64)                4160      \n",
            "                                                                 \n",
            " dense_22 (Dense)            (None, 3)                 195       \n",
            "                                                                 \n",
            "=================================================================\n",
            "Total params: 1,346,243\n",
            "Trainable params: 1,346,243\n",
            "Non-trainable params: 0\n",
            "_________________________________________________________________\n",
            "Epoch 1/10\n",
            "413/413 [==============================] - 9s 18ms/step - loss: 0.6555 - acc: 0.7850 - val_loss: 0.3448 - val_acc: 0.8986\n",
            "Epoch 2/10\n",
            "413/413 [==============================] - 7s 17ms/step - loss: 0.2615 - acc: 0.9302 - val_loss: 0.4244 - val_acc: 0.8929\n",
            "Epoch 3/10\n",
            "413/413 [==============================] - 7s 18ms/step - loss: 0.2203 - acc: 0.9447 - val_loss: 0.2512 - val_acc: 0.9361\n",
            "Epoch 4/10\n",
            "413/413 [==============================] - 7s 18ms/step - loss: 0.1898 - acc: 0.9502 - val_loss: 0.2076 - val_acc: 0.9473\n",
            "Epoch 5/10\n",
            "413/413 [==============================] - 7s 17ms/step - loss: 0.1730 - acc: 0.9553 - val_loss: 0.2344 - val_acc: 0.9346\n",
            "Epoch 6/10\n",
            "413/413 [==============================] - 7s 17ms/step - loss: 0.1298 - acc: 0.9699 - val_loss: 0.1956 - val_acc: 0.9455\n",
            "Epoch 7/10\n",
            "413/413 [==============================] - 7s 17ms/step - loss: 0.2093 - acc: 0.9311 - val_loss: 0.2592 - val_acc: 0.9198\n",
            "Epoch 8/10\n",
            "413/413 [==============================] - 7s 17ms/step - loss: 0.1497 - acc: 0.9620 - val_loss: 0.2071 - val_acc: 0.9452\n",
            "Epoch 9/10\n",
            "413/413 [==============================] - 7s 17ms/step - loss: 0.1470 - acc: 0.9685 - val_loss: 0.2225 - val_acc: 0.9431\n",
            "Epoch 10/10\n",
            "413/413 [==============================] - 7s 17ms/step - loss: 0.1099 - acc: 0.9759 - val_loss: 0.2308 - val_acc: 0.9431\n"
          ]
        },
        {
          "output_type": "execute_result",
          "data": {
            "text/plain": [
              "<matplotlib.legend.Legend at 0x7fe9905edfd0>"
            ]
          },
          "metadata": {},
          "execution_count": 65
        },
        {
          "output_type": "display_data",
          "data": {
            "image/png": "[encoded data removed]",
            "text/plain": [
              "<Figure size 432x288 with 1 Axes>"
            ]
          },
          "metadata": {}
        }
      ]
    },
    {
      "cell_type": "markdown",
      "source": [
        "# Experiment 4 -impleneting birectional RNN and  RNN"
      ],
      "metadata": {
        "id": "rfVgJ5cD3tCx"
      }
    },
    {
      "cell_type": "code",
      "source": [
        "class experiment2:\n",
        "  def build(dropout=[[0,0,0]]):\n",
        "    vectorizeLayer = TextVectorization(output_mode = 'int')\n",
        "\n",
        "    # adapt() fits the TextVectorization layer to our text dataset. This is when the\n",
        "    vectorizeLayer.adapt(trainX)\n",
        "\n",
        "    model = Sequential()\n",
        "\n",
        "    model.add(Input(shape=(1,), dtype = 'string'))\n",
        "\n",
        "    # text vectorization layer\n",
        "    model.add(vectorizeLayer)\n",
        "\n",
        "    # add an embedding layer to turn integers into fixed-length vectors\n",
        "    model.add(Embedding(vectorizeLayer.vocabulary_size(), 128))\n",
        "    model.add(Dropout(dropout[0]))\n",
        "    \n",
        "    model.add(SimpleRNN(64, return_sequences = True))\n",
        "    model.add(Dropout(dropout[1]))\n",
        "    # add a fully-connected recurrent layer\n",
        "    \n",
        "    model.add(Bidirectional(SimpleRNN(64)))\n",
        "    # add a dense layer\n",
        "    model.add(Dense(64, activation = 'relu',kernel_regularizer=regularizers.l2(0.01)))\n",
        "    model.add(Dropout(dropout[2]))\n",
        "\n",
        "    # add softmax classifier\n",
        "    model.add(Dense(3, activation = 'softmax'))\n",
        "    return model"
      ],
      "metadata": {
        "id": "8qI6xku53sbi"
      },
      "execution_count": 74,
      "outputs": []
    },
    {
      "cell_type": "code",
      "source": [
        "epochs = 10\n",
        "#dropout=[[0.2,0.0,0.5],]\n",
        "es = EarlyStopping(monitor='val_loss',patience=5)\n",
        "model = experiment2.build(dropout=[0.2,0.0,0.5])\n",
        "model.compile(optimizer = 'adam', loss = 'categorical_crossentropy', metrics = ['acc'])\n",
        "model.summary()\n",
        "H = model.fit(trainX,trainY,validation_split=0.2,epochs = epochs,callbacks=[es])\n",
        "\n",
        "plt.style.use('ggplot')\n",
        "plt.figure()\n",
        "plt.plot(np.arange(0, epochs), H.history['loss'], label = 'train_loss')\n",
        "plt.plot(np.arange(0, epochs), H.history['val_loss'], label = 'val_loss')\n",
        "plt.plot(np.arange(0, epochs), H.history['acc'], label = 'train_acc')\n",
        "plt.plot(np.arange(0, epochs), H.history['val_acc'], label = 'val_acc')\n",
        "    \n",
        "# add labels and legend\n",
        "plt.title('Training Loss and Accuracy')\n",
        "plt.xlabel('Epoch #')\n",
        "plt.ylabel('Loss/Accuracy')\n",
        "plt.legend()"
      ],
      "metadata": {
        "colab": {
          "base_uri": "https://localhost:8080/",
          "height": 1000
        },
        "id": "ScRljcYH4AEQ",
        "outputId": "bb23502c-caef-4c8d-a129-64e8c3a6acb6"
      },
      "execution_count": 75,
      "outputs": [
        {
          "output_type": "stream",
          "name": "stdout",
          "text": [
            "Model: \"sequential_16\"\n",
            "_________________________________________________________________\n",
            " Layer (type)                Output Shape              Param #   \n",
            "=================================================================\n",
            " text_vectorization_16 (Text  (None, None)             0         \n",
            " Vectorization)                                                  \n",
            "                                                                 \n",
            " embedding_16 (Embedding)    (None, None, 128)         1329536   \n",
            "                                                                 \n",
            " dropout_10 (Dropout)        (None, None, 128)         0         \n",
            "                                                                 \n",
            " simple_rnn_12 (SimpleRNN)   (None, None, 64)          12352     \n",
            "                                                                 \n",
            " dropout_11 (Dropout)        (None, None, 64)          0         \n",
            "                                                                 \n",
            " bidirectional_4 (Bidirectio  (None, 128)              16512     \n",
            " nal)                                                            \n",
            "                                                                 \n",
            " dense_29 (Dense)            (None, 64)                8256      \n",
            "                                                                 \n",
            " dropout_12 (Dropout)        (None, 64)                0         \n",
            "                                                                 \n",
            " dense_30 (Dense)            (None, 3)                 195       \n",
            "                                                                 \n",
            "=================================================================\n",
            "Total params: 1,366,851\n",
            "Trainable params: 1,366,851\n",
            "Non-trainable params: 0\n",
            "_________________________________________________________________\n",
            "Epoch 1/10\n",
            "413/413 [==============================] - 20s 43ms/step - loss: 0.6759 - acc: 0.8402 - val_loss: 0.2742 - val_acc: 0.9286\n",
            "Epoch 2/10\n",
            "413/413 [==============================] - 17s 41ms/step - loss: 0.1834 - acc: 0.9563 - val_loss: 0.2357 - val_acc: 0.9301\n",
            "Epoch 3/10\n",
            "413/413 [==============================] - 18s 43ms/step - loss: 0.1093 - acc: 0.9751 - val_loss: 0.1900 - val_acc: 0.9464\n",
            "Epoch 4/10\n",
            "413/413 [==============================] - 17s 42ms/step - loss: 0.0787 - acc: 0.9823 - val_loss: 0.1750 - val_acc: 0.9531\n",
            "Epoch 5/10\n",
            "413/413 [==============================] - 17s 42ms/step - loss: 0.0676 - acc: 0.9847 - val_loss: 0.1555 - val_acc: 0.9543\n",
            "Epoch 6/10\n",
            "413/413 [==============================] - 17s 41ms/step - loss: 0.0588 - acc: 0.9859 - val_loss: 0.1572 - val_acc: 0.9582\n",
            "Epoch 7/10\n",
            "413/413 [==============================] - 17s 41ms/step - loss: 0.0560 - acc: 0.9862 - val_loss: 0.1894 - val_acc: 0.9479\n",
            "Epoch 8/10\n",
            "413/413 [==============================] - 17s 41ms/step - loss: 0.0572 - acc: 0.9874 - val_loss: 0.2190 - val_acc: 0.9473\n",
            "Epoch 9/10\n",
            "413/413 [==============================] - 17s 41ms/step - loss: 0.0536 - acc: 0.9889 - val_loss: 0.1723 - val_acc: 0.9558\n",
            "Epoch 10/10\n",
            "413/413 [==============================] - 17s 41ms/step - loss: 0.0482 - acc: 0.9894 - val_loss: 0.1836 - val_acc: 0.9573\n"
          ]
        },
        {
          "output_type": "execute_result",
          "data": {
            "text/plain": [
              "<matplotlib.legend.Legend at 0x7fe993f7b750>"
            ]
          },
          "metadata": {},
          "execution_count": 75
        },
        {
          "output_type": "display_data",
          "data": {
            "image/png": "[encoded data removed]",
            "text/plain": [
              "<Figure size 432x288 with 1 Axes>"
            ]
          },
          "metadata": {}
        }
      ]
    },
    {
      "cell_type": "markdown",
      "source": [
        "#Experiment 5  using LSTM "
      ],
      "metadata": {
        "id": "ljPfBarGvCVk"
      }
    },
    {
      "cell_type": "code",
      "source": [
        "class experiment2:\n",
        "  def build(dropout=[[0,0,0]]):\n",
        "    vectorizeLayer = TextVectorization(output_mode = 'int')\n",
        "\n",
        "    # adapt() fits the TextVectorization layer to our text dataset. This is when the\n",
        "    vectorizeLayer.adapt(trainX)\n",
        "\n",
        "    model = Sequential()\n",
        "\n",
        "    model.add(Input(shape=(1,), dtype = 'string'))\n",
        "\n",
        "    # text vectorization layer\n",
        "    model.add(vectorizeLayer)\n",
        "\n",
        "    # add an embedding layer to turn integers into fixed-length vectors\n",
        "    model.add(Embedding(vectorizeLayer.vocabulary_size(), 128))\n",
        "    #model.add(Dropout(dropout[0]))\n",
        "\n",
        "    # add a fully-connected recurrent layer\n",
        "    #model.add(Bidirectional(SimpleRNN(64)))\n",
        "    model.add(LSTM(64))\n",
        "    # add a dense layer\n",
        "    model.add(Dense(64, activation = 'relu',kernel_regularizer=regularizers.l2(0.01)))\n",
        "    #model.add(Dropout(dropout[2]))\n",
        "\n",
        "    # add softmax classifier\n",
        "    model.add(Dense(3, activation = 'softmax'))\n",
        "    return model"
      ],
      "metadata": {
        "id": "d0hAcxPc0n0v"
      },
      "execution_count": 66,
      "outputs": []
    },
    {
      "cell_type": "code",
      "source": [
        "epochs = 10\n",
        "#dropout=[[0.2,0.0,0.5],]\n",
        "es = EarlyStopping(monitor='val_loss',patience=5)\n",
        "model = experiment2.build(dropout=[0.2,0.0,0.5])\n",
        "model.compile(optimizer = 'adam', loss = 'categorical_crossentropy', metrics = ['acc'])\n",
        "model.summary()\n",
        "H = model.fit(trainX,trainY,validation_split=0.2,epochs = epochs,callbacks=[es])\n",
        "\n",
        "plt.style.use('ggplot')\n",
        "plt.figure()\n",
        "plt.plot(np.arange(0, epochs), H.history['loss'], label = 'train_loss')\n",
        "plt.plot(np.arange(0, epochs), H.history['val_loss'], label = 'val_loss')\n",
        "plt.plot(np.arange(0, epochs), H.history['acc'], label = 'train_acc')\n",
        "plt.plot(np.arange(0, epochs), H.history['val_acc'], label = 'val_acc')\n",
        "    \n",
        "# add labels and legend\n",
        "plt.title('Training Loss and Accuracy')\n",
        "plt.xlabel('Epoch #')\n",
        "plt.ylabel('Loss/Accuracy')\n",
        "plt.legend()"
      ],
      "metadata": {
        "colab": {
          "base_uri": "https://localhost:8080/",
          "height": 1000
        },
        "id": "ssgy-inn0sV4",
        "outputId": "9cda5ce4-3b88-4ff4-d863-b6c692b98b22"
      },
      "execution_count": 67,
      "outputs": [
        {
          "output_type": "stream",
          "name": "stdout",
          "text": [
            "Model: \"sequential_12\"\n",
            "_________________________________________________________________\n",
            " Layer (type)                Output Shape              Param #   \n",
            "=================================================================\n",
            " text_vectorization_12 (Text  (None, None)             0         \n",
            " Vectorization)                                                  \n",
            "                                                                 \n",
            " embedding_12 (Embedding)    (None, None, 128)         1329536   \n",
            "                                                                 \n",
            " lstm (LSTM)                 (None, 64)                49408     \n",
            "                                                                 \n",
            " dense_23 (Dense)            (None, 64)                4160      \n",
            "                                                                 \n",
            " dense_24 (Dense)            (None, 3)                 195       \n",
            "                                                                 \n",
            "=================================================================\n",
            "Total params: 1,383,299\n",
            "Trainable params: 1,383,299\n",
            "Non-trainable params: 0\n",
            "_________________________________________________________________\n",
            "Epoch 1/10\n",
            "413/413 [==============================] - 7s 7ms/step - loss: 0.6988 - acc: 0.6363 - val_loss: 0.5056 - val_acc: 0.6656\n",
            "Epoch 2/10\n",
            "413/413 [==============================] - 2s 6ms/step - loss: 0.3436 - acc: 0.8493 - val_loss: 0.2429 - val_acc: 0.9255\n",
            "Epoch 3/10\n",
            "413/413 [==============================] - 2s 5ms/step - loss: 0.1506 - acc: 0.9596 - val_loss: 0.2011 - val_acc: 0.9380\n",
            "Epoch 4/10\n",
            "413/413 [==============================] - 2s 5ms/step - loss: 0.1113 - acc: 0.9730 - val_loss: 0.1871 - val_acc: 0.9464\n",
            "Epoch 5/10\n",
            "413/413 [==============================] - 2s 5ms/step - loss: 0.0852 - acc: 0.9800 - val_loss: 0.1632 - val_acc: 0.9540\n",
            "Epoch 6/10\n",
            "413/413 [==============================] - 2s 5ms/step - loss: 0.0676 - acc: 0.9857 - val_loss: 0.1833 - val_acc: 0.9558\n",
            "Epoch 7/10\n",
            "413/413 [==============================] - 2s 5ms/step - loss: 0.0598 - acc: 0.9869 - val_loss: 0.1847 - val_acc: 0.9549\n",
            "Epoch 8/10\n",
            "413/413 [==============================] - 2s 6ms/step - loss: 0.0571 - acc: 0.9877 - val_loss: 0.1646 - val_acc: 0.9573\n",
            "Epoch 9/10\n",
            "413/413 [==============================] - 2s 6ms/step - loss: 0.0590 - acc: 0.9862 - val_loss: 0.1879 - val_acc: 0.9558\n",
            "Epoch 10/10\n",
            "413/413 [==============================] - 2s 6ms/step - loss: 0.0444 - acc: 0.9893 - val_loss: 0.1799 - val_acc: 0.9537\n"
          ]
        },
        {
          "output_type": "execute_result",
          "data": {
            "text/plain": [
              "<matplotlib.legend.Legend at 0x7fe995ee23d0>"
            ]
          },
          "metadata": {},
          "execution_count": 67
        },
        {
          "output_type": "display_data",
          "data": {
            "image/png": "[encoded data removed]",
            "text/plain": [
              "<Figure size 432x288 with 1 Axes>"
            ]
          },
          "metadata": {}
        }
      ]
    },
    {
      "cell_type": "markdown",
      "source": [
        "#Experiment 6 - GRU"
      ],
      "metadata": {
        "id": "JHSs5MXfvLX2"
      }
    },
    {
      "cell_type": "code",
      "source": [
        "class experiment2:\n",
        "  def build(dropout=[[0,0,0]]):\n",
        "    vectorizeLayer = TextVectorization(output_mode = 'int')\n",
        "\n",
        "    # adapt() fits the TextVectorization layer to our text dataset. This is when the\n",
        "    vectorizeLayer.adapt(trainX)\n",
        "\n",
        "    model = Sequential()\n",
        "\n",
        "    model.add(Input(shape=(1,), dtype = 'string'))\n",
        "\n",
        "    # text vectorization layer\n",
        "    model.add(vectorizeLayer)\n",
        "\n",
        "    # add an embedding layer to turn integers into fixed-length vectors\n",
        "    model.add(Embedding(vectorizeLayer.vocabulary_size(), 128))\n",
        "    model.add(Dropout(dropout[0]))\n",
        "    # add a fully-connected recurrent layer\n",
        "    model.add(Dropout(dropout[1]))\n",
        "    #model.add(Bidirectional(SimpleRNN(64)))\n",
        "    model.add(GRU(units=50, activation='tanh'))\n",
        "    # add a dense layer\n",
        "    model.add(Dense(64, activation = 'relu',kernel_regularizer=regularizers.l2(0.01)))\n",
        "    model.add(Dropout(dropout[2]))\n",
        "\n",
        "    # add softmax classifier\n",
        "    model.add(Dense(3, activation = 'softmax'))\n",
        "    return model"
      ],
      "metadata": {
        "id": "m2ip61wc1JJJ"
      },
      "execution_count": 41,
      "outputs": []
    },
    {
      "cell_type": "code",
      "source": [
        "epochs = 10\n",
        "#dropout=[[0.2,0.0,0.5],]\n",
        "es = EarlyStopping(monitor='val_loss',patience=5)\n",
        "model = experiment2.build(dropout=[0.2,0.0,0.5])\n",
        "model.compile(optimizer = 'adam', loss = 'categorical_crossentropy', metrics = ['acc'])\n",
        "model.summary()\n",
        "H = model.fit(trainX,trainY,validation_split=0.2,epochs = epochs,callbacks=[es])\n",
        "\n",
        "plt.style.use('ggplot')\n",
        "plt.figure()\n",
        "plt.plot(np.arange(0, epochs), H.history['loss'], label = 'train_loss')\n",
        "plt.plot(np.arange(0, epochs), H.history['val_loss'], label = 'val_loss')\n",
        "plt.plot(np.arange(0, epochs), H.history['acc'], label = 'train_acc')\n",
        "plt.plot(np.arange(0, epochs), H.history['val_acc'], label = 'val_acc')\n",
        "    \n",
        "# add labels and legend\n",
        "plt.title('Training Loss and Accuracy')\n",
        "plt.xlabel('Epoch #')\n",
        "plt.ylabel('Loss/Accuracy')\n",
        "plt.legend()"
      ],
      "metadata": {
        "colab": {
          "base_uri": "https://localhost:8080/",
          "height": 1000
        },
        "id": "M-caUAaW1NGn",
        "outputId": "55372a06-c545-43ca-9f8d-6e710fdd549a"
      },
      "execution_count": 42,
      "outputs": [
        {
          "output_type": "stream",
          "name": "stdout",
          "text": [
            "Model: \"sequential_1\"\n",
            "_________________________________________________________________\n",
            " Layer (type)                Output Shape              Param #   \n",
            "=================================================================\n",
            " text_vectorization_1 (TextV  (None, None)             0         \n",
            " ectorization)                                                   \n",
            "                                                                 \n",
            " embedding_1 (Embedding)     (None, None, 128)         1325312   \n",
            "                                                                 \n",
            " dropout_3 (Dropout)         (None, None, 128)         0         \n",
            "                                                                 \n",
            " dropout_4 (Dropout)         (None, None, 128)         0         \n",
            "                                                                 \n",
            " gru_1 (GRU)                 (None, 50)                27000     \n",
            "                                                                 \n",
            " dense_2 (Dense)             (None, 64)                3264      \n",
            "                                                                 \n",
            " dropout_5 (Dropout)         (None, 64)                0         \n",
            "                                                                 \n",
            " dense_3 (Dense)             (None, 3)                 195       \n",
            "                                                                 \n",
            "=================================================================\n",
            "Total params: 1,355,771\n",
            "Trainable params: 1,355,771\n",
            "Non-trainable params: 0\n",
            "_________________________________________________________________\n",
            "Epoch 1/10\n",
            "413/413 [==============================] - 8s 7ms/step - loss: 0.7543 - acc: 0.6091 - val_loss: 0.5686 - val_acc: 0.6450\n",
            "Epoch 2/10\n",
            "413/413 [==============================] - 2s 6ms/step - loss: 0.5016 - acc: 0.6643 - val_loss: 0.5121 - val_acc: 0.6728\n",
            "Epoch 3/10\n",
            "413/413 [==============================] - 3s 6ms/step - loss: 0.4931 - acc: 0.6656 - val_loss: 0.4892 - val_acc: 0.6728\n",
            "Epoch 4/10\n",
            "413/413 [==============================] - 2s 6ms/step - loss: 0.4807 - acc: 0.6628 - val_loss: 0.4844 - val_acc: 0.6619\n",
            "Epoch 5/10\n",
            "413/413 [==============================] - 2s 6ms/step - loss: 0.4763 - acc: 0.6634 - val_loss: 0.4874 - val_acc: 0.6734\n",
            "Epoch 6/10\n",
            "413/413 [==============================] - 2s 6ms/step - loss: 0.4768 - acc: 0.6586 - val_loss: 0.4744 - val_acc: 0.6752\n",
            "Epoch 7/10\n",
            "413/413 [==============================] - 3s 6ms/step - loss: 0.4757 - acc: 0.6609 - val_loss: 0.4698 - val_acc: 0.6755\n",
            "Epoch 8/10\n",
            "413/413 [==============================] - 3s 6ms/step - loss: 0.4708 - acc: 0.6625 - val_loss: 0.4692 - val_acc: 0.6758\n",
            "Epoch 9/10\n",
            "413/413 [==============================] - 2s 6ms/step - loss: 0.4710 - acc: 0.6604 - val_loss: 0.4735 - val_acc: 0.6622\n",
            "Epoch 10/10\n",
            "413/413 [==============================] - 2s 6ms/step - loss: 0.4690 - acc: 0.6662 - val_loss: 0.4741 - val_acc: 0.6752\n"
          ]
        },
        {
          "output_type": "execute_result",
          "data": {
            "text/plain": [
              "<matplotlib.legend.Legend at 0x7fb5e9322a50>"
            ]
          },
          "metadata": {},
          "execution_count": 42
        },
        {
          "output_type": "display_data",
          "data": {
            "image/png": "[encoded data removed]",
            "text/plain": [
              "<Figure size 432x288 with 1 Axes>"
            ]
          },
          "metadata": {}
        }
      ]
    },
    {
      "cell_type": "markdown",
      "source": [
        "# Experiment 7 using both bidirectional and  LTSM"
      ],
      "metadata": {
        "id": "CuDJPkj7vlVV"
      }
    },
    {
      "cell_type": "code",
      "source": [
        "class experiment2:\n",
        "  def build(dropout=[[0,0,0]]):\n",
        "    vectorizeLayer = TextVectorization(output_mode = 'int')\n",
        "\n",
        "    # adapt() fits the TextVectorization layer to our text dataset. This is when the\n",
        "    vectorizeLayer.adapt(trainX)\n",
        "\n",
        "    model = Sequential()\n",
        "\n",
        "    model.add(Input(shape=(1,), dtype = 'string'))\n",
        "\n",
        "    # text vectorization layer\n",
        "    model.add(vectorizeLayer)\n",
        "\n",
        "    # add an embedding layer to turn integers into fixed-length vectors\n",
        "    model.add(Embedding(vectorizeLayer.vocabulary_size(), 128))\n",
        "    model.add(Dropout(dropout[0]))\n",
        "    \n",
        "    model.add(LSTM(64, return_sequences = True))\n",
        "    model.add(Dropout(dropout[1]))\n",
        "    # add a fully-connected recurrent layer\n",
        "    #model.add(Bidirectional(SimpleRNN(64)))\n",
        "    \n",
        "    model.add(Bidirectional(LSTM(64)))\n",
        "    # add a dense layer\n",
        "    model.add(Dense(64, activation = 'relu',kernel_regularizer=regularizers.l2(0.01)))\n",
        "    model.add(Dropout(dropout[2]))\n",
        "\n",
        "    # add softmax classifier\n",
        "    model.add(Dense(3, activation = 'softmax'))\n",
        "    return model"
      ],
      "metadata": {
        "id": "Qa7xUb8813dc"
      },
      "execution_count": 72,
      "outputs": []
    },
    {
      "cell_type": "code",
      "source": [
        "epochs = 10\n",
        "#dropout=[[0.2,0.0,0.5],]\n",
        "es = EarlyStopping(monitor='val_loss',patience=5)\n",
        "model = experiment2.build(dropout=[0.2,0.0,0.5])\n",
        "model.compile(optimizer = 'adam', loss = 'categorical_crossentropy', metrics = ['acc'])\n",
        "model.summary()\n",
        "H = model.fit(trainX,trainY,validation_split=0.2,epochs = epochs,callbacks=[es])\n",
        "\n",
        "plt.style.use('ggplot')\n",
        "plt.figure()\n",
        "plt.plot(np.arange(0, epochs), H.history['loss'], label = 'train_loss')\n",
        "plt.plot(np.arange(0, epochs), H.history['val_loss'], label = 'val_loss')\n",
        "plt.plot(np.arange(0, epochs), H.history['acc'], label = 'train_acc')\n",
        "plt.plot(np.arange(0, epochs), H.history['val_acc'], label = 'val_acc')\n",
        "    \n",
        "# add labels and legend\n",
        "plt.title('Training Loss and Accuracy')\n",
        "plt.xlabel('Epoch #')\n",
        "plt.ylabel('Loss/Accuracy')\n",
        "plt.legend()"
      ],
      "metadata": {
        "colab": {
          "base_uri": "https://localhost:8080/",
          "height": 1000
        },
        "id": "5IYyJAZt2JyL",
        "outputId": "e1deb50f-5c18-488a-86fa-30cd79a35b9e"
      },
      "execution_count": 73,
      "outputs": [
        {
          "output_type": "stream",
          "name": "stdout",
          "text": [
            "Model: \"sequential_15\"\n",
            "_________________________________________________________________\n",
            " Layer (type)                Output Shape              Param #   \n",
            "=================================================================\n",
            " text_vectorization_15 (Text  (None, None)             0         \n",
            " Vectorization)                                                  \n",
            "                                                                 \n",
            " embedding_15 (Embedding)    (None, None, 128)         1329536   \n",
            "                                                                 \n",
            " dropout_7 (Dropout)         (None, None, 128)         0         \n",
            "                                                                 \n",
            " lstm_4 (LSTM)               (None, None, 64)          49408     \n",
            "                                                                 \n",
            " dropout_8 (Dropout)         (None, None, 64)          0         \n",
            "                                                                 \n",
            " bidirectional_3 (Bidirectio  (None, 128)              66048     \n",
            " nal)                                                            \n",
            "                                                                 \n",
            " dense_27 (Dense)            (None, 64)                8256      \n",
            "                                                                 \n",
            " dropout_9 (Dropout)         (None, 64)                0         \n",
            "                                                                 \n",
            " dense_28 (Dense)            (None, 3)                 195       \n",
            "                                                                 \n",
            "=================================================================\n",
            "Total params: 1,453,443\n",
            "Trainable params: 1,453,443\n",
            "Non-trainable params: 0\n",
            "_________________________________________________________________\n",
            "Epoch 1/10\n",
            "413/413 [==============================] - 10s 13ms/step - loss: 0.6183 - acc: 0.7701 - val_loss: 0.2747 - val_acc: 0.9071\n",
            "Epoch 2/10\n",
            "413/413 [==============================] - 4s 10ms/step - loss: 0.2107 - acc: 0.9428 - val_loss: 0.1930 - val_acc: 0.9389\n",
            "Epoch 3/10\n",
            "413/413 [==============================] - 4s 10ms/step - loss: 0.1374 - acc: 0.9664 - val_loss: 0.1680 - val_acc: 0.9498\n",
            "Epoch 4/10\n",
            "413/413 [==============================] - 4s 10ms/step - loss: 0.1047 - acc: 0.9771 - val_loss: 0.1759 - val_acc: 0.9588\n",
            "Epoch 5/10\n",
            "413/413 [==============================] - 4s 9ms/step - loss: 0.0877 - acc: 0.9815 - val_loss: 0.2022 - val_acc: 0.9561\n",
            "Epoch 6/10\n",
            "413/413 [==============================] - 4s 10ms/step - loss: 0.0970 - acc: 0.9798 - val_loss: 0.1581 - val_acc: 0.9576\n",
            "Epoch 7/10\n",
            "413/413 [==============================] - 4s 10ms/step - loss: 0.0793 - acc: 0.9831 - val_loss: 0.1820 - val_acc: 0.9604\n",
            "Epoch 8/10\n",
            "413/413 [==============================] - 4s 10ms/step - loss: 0.0653 - acc: 0.9862 - val_loss: 0.1809 - val_acc: 0.9567\n",
            "Epoch 9/10\n",
            "413/413 [==============================] - 4s 10ms/step - loss: 0.0690 - acc: 0.9849 - val_loss: 0.1785 - val_acc: 0.9570\n",
            "Epoch 10/10\n",
            "413/413 [==============================] - 4s 10ms/step - loss: 0.0616 - acc: 0.9865 - val_loss: 0.1835 - val_acc: 0.9597\n"
          ]
        },
        {
          "output_type": "execute_result",
          "data": {
            "text/plain": [
              "<matplotlib.legend.Legend at 0x7fe995e0d4d0>"
            ]
          },
          "metadata": {},
          "execution_count": 73
        },
        {
          "output_type": "display_data",
          "data": {
            "image/png": "[encoded data removed]",
            "text/plain": [
              "<Figure size 432x288 with 1 Axes>"
            ]
          },
          "metadata": {}
        }
      ]
    },
    {
      "cell_type": "markdown",
      "source": [
        "#Experiment bidirectional lstm and GRU "
      ],
      "metadata": {
        "id": "pW_y0IQrvpB5"
      }
    },
    {
      "cell_type": "code",
      "source": [
        "class experiment2:\n",
        "  def build(dropout=[[0,0,0]]):\n",
        "    vectorizeLayer = TextVectorization(output_mode = 'int')\n",
        "\n",
        "    # adapt() fits the TextVectorization layer to our text dataset. This is when the\n",
        "    vectorizeLayer.adapt(trainX)\n",
        "\n",
        "    model = Sequential()\n",
        "\n",
        "    model.add(Input(shape=(1,), dtype = 'string'))\n",
        "\n",
        "    # text vectorization layer\n",
        "    model.add(vectorizeLayer)\n",
        "\n",
        "    # add an embedding layer to turn integers into fixed-length vectors\n",
        "    model.add(Embedding(vectorizeLayer.vocabulary_size(), 128))\n",
        "    model.add(Dropout(dropout[0]))\n",
        "\n",
        "    model.add(GRU(units=50, activation='tanh',return_sequences = True))\n",
        "    #model.add(LSTM(64, return_sequences = True))\n",
        "    model.add(Dropout(dropout[1]))\n",
        "    # add a fully-connected recurrent layer\n",
        "    #model.add(Bidirectional(SimpleRNN(64)))\n",
        "    \n",
        "    model.add(Bidirectional(LSTM(64)))\n",
        "    # add a dense layer\n",
        "    model.add(Dense(64, activation = 'relu',kernel_regularizer=regularizers.l2(0.01)))\n",
        "    model.add(Dropout(dropout[2]))\n",
        "\n",
        "    # add softmax classifier\n",
        "    model.add(Dense(3, activation = 'softmax'))\n",
        "    return model"
      ],
      "metadata": {
        "id": "mqSByslY8Azs"
      },
      "execution_count": 89,
      "outputs": []
    },
    {
      "cell_type": "code",
      "source": [
        "epochs = 10\n",
        "#dropout=[[0.2,0.0,0.5],]\n",
        "es = EarlyStopping(monitor='val_loss',patience=5)\n",
        "model = experiment2.build(dropout=[0.2,0.0,0.5])\n",
        "model.compile(optimizer = 'adam', loss = 'categorical_crossentropy', metrics = ['acc'])\n",
        "model.summary()\n",
        "H = model.fit(trainX,trainY,validation_split=0.2,epochs = epochs,callbacks=[es])\n",
        "\n",
        "plt.style.use('ggplot')\n",
        "plt.figure()\n",
        "plt.plot(np.arange(0, epochs), H.history['loss'], label = 'train_loss')\n",
        "plt.plot(np.arange(0, epochs), H.history['val_loss'], label = 'val_loss')\n",
        "plt.plot(np.arange(0, epochs), H.history['acc'], label = 'train_acc')\n",
        "plt.plot(np.arange(0, epochs), H.history['val_acc'], label = 'val_acc')\n",
        "    \n",
        "# add labels and legend\n",
        "plt.title('Training Loss and Accuracy')\n",
        "plt.xlabel('Epoch #')\n",
        "plt.ylabel('Loss/Accuracy')\n",
        "plt.legend()"
      ],
      "metadata": {
        "colab": {
          "base_uri": "https://localhost:8080/",
          "height": 1000
        },
        "id": "7AVVMDHs8ZMM",
        "outputId": "b4b90677-3ee8-43de-a48a-6501e8ea4312"
      },
      "execution_count": 91,
      "outputs": [
        {
          "output_type": "stream",
          "name": "stdout",
          "text": [
            "Model: \"sequential_23\"\n",
            "_________________________________________________________________\n",
            " Layer (type)                Output Shape              Param #   \n",
            "=================================================================\n",
            " text_vectorization_22 (Text  (None, None)             0         \n",
            " Vectorization)                                                  \n",
            "                                                                 \n",
            " embedding_20 (Embedding)    (None, None, 128)         1329536   \n",
            "                                                                 \n",
            " dropout_18 (Dropout)        (None, None, 128)         0         \n",
            "                                                                 \n",
            " gru_1 (GRU)                 (None, None, 50)          27000     \n",
            "                                                                 \n",
            " dropout_19 (Dropout)        (None, None, 50)          0         \n",
            "                                                                 \n",
            " bidirectional_6 (Bidirectio  (None, 128)              58880     \n",
            " nal)                                                            \n",
            "                                                                 \n",
            " dense_33 (Dense)            (None, 64)                8256      \n",
            "                                                                 \n",
            " dropout_20 (Dropout)        (None, 64)                0         \n",
            "                                                                 \n",
            " dense_34 (Dense)            (None, 3)                 195       \n",
            "                                                                 \n",
            "=================================================================\n",
            "Total params: 1,423,867\n",
            "Trainable params: 1,423,867\n",
            "Non-trainable params: 0\n",
            "_________________________________________________________________\n",
            "Epoch 1/10\n",
            "413/413 [==============================] - 9s 12ms/step - loss: 0.5952 - acc: 0.8052 - val_loss: 0.2693 - val_acc: 0.9101\n",
            "Epoch 2/10\n",
            "413/413 [==============================] - 4s 9ms/step - loss: 0.1938 - acc: 0.9440 - val_loss: 0.1879 - val_acc: 0.9401\n",
            "Epoch 3/10\n",
            "413/413 [==============================] - 4s 10ms/step - loss: 0.1262 - acc: 0.9688 - val_loss: 0.1808 - val_acc: 0.9513\n",
            "Epoch 4/10\n",
            "413/413 [==============================] - 4s 9ms/step - loss: 0.0970 - acc: 0.9766 - val_loss: 0.1822 - val_acc: 0.9507\n",
            "Epoch 5/10\n",
            "413/413 [==============================] - 4s 9ms/step - loss: 0.0796 - acc: 0.9813 - val_loss: 0.1734 - val_acc: 0.9543\n",
            "Epoch 6/10\n",
            "413/413 [==============================] - 4s 10ms/step - loss: 0.0700 - acc: 0.9851 - val_loss: 0.1698 - val_acc: 0.9546\n",
            "Epoch 7/10\n",
            "413/413 [==============================] - 4s 9ms/step - loss: 0.0621 - acc: 0.9864 - val_loss: 0.2033 - val_acc: 0.9564\n",
            "Epoch 8/10\n",
            "413/413 [==============================] - 4s 9ms/step - loss: 0.0565 - acc: 0.9872 - val_loss: 0.1697 - val_acc: 0.9607\n",
            "Epoch 9/10\n",
            "413/413 [==============================] - 4s 9ms/step - loss: 0.0534 - acc: 0.9874 - val_loss: 0.1937 - val_acc: 0.9585\n",
            "Epoch 10/10\n",
            "413/413 [==============================] - 4s 9ms/step - loss: 0.0478 - acc: 0.9880 - val_loss: 0.1879 - val_acc: 0.9561\n"
          ]
        },
        {
          "output_type": "execute_result",
          "data": {
            "text/plain": [
              "<matplotlib.legend.Legend at 0x7fe98473d850>"
            ]
          },
          "metadata": {},
          "execution_count": 91
        },
        {
          "output_type": "display_data",
          "data": {
            "image/png": "[encoded data removed]",
            "text/plain": [
              "<Figure size 432x288 with 1 Axes>"
            ]
          },
          "metadata": {}
        }
      ]
    },
    {
      "cell_type": "markdown",
      "source": [
        "# Experiment 9 using lstm and bidirection rnn"
      ],
      "metadata": {
        "id": "Cs08KiwM5IaA"
      }
    },
    {
      "cell_type": "code",
      "source": [
        "class experiment2:\n",
        "  def build(dropout=[[0,0,0]]):\n",
        "    vectorizeLayer = TextVectorization(output_mode = 'int')\n",
        "\n",
        "    # adapt() fits the TextVectorization layer to our text dataset. This is when the\n",
        "    vectorizeLayer.adapt(trainX)\n",
        "\n",
        "    model = Sequential()\n",
        "\n",
        "    model.add(Input(shape=(1,), dtype = 'string'))\n",
        "\n",
        "    # text vectorization layer\n",
        "    model.add(vectorizeLayer)\n",
        "\n",
        "    # add an embedding layer to turn integers into fixed-length vectors\n",
        "    model.add(Embedding(vectorizeLayer.vocabulary_size(), 128))\n",
        "    model.add(Dropout(dropout[0]))\n",
        "\n",
        "    model.add(GRU(units=50, activation='tanh',return_sequences = True))\n",
        "    #model.add(LSTM(64, return_sequences = True))\n",
        "    model.add(Dropout(dropout[1]))\n",
        "    # add a fully-connected recurrent layer\n",
        "    #model.add(Bidirectional(SimpleRNN(64)))\n",
        "    \n",
        "    model.add(Bidirectional(SimpleRNN(64)))\n",
        "    # add a dense layer\n",
        "    model.add(Dense(64, activation = 'relu',kernel_regularizer=regularizers.l2(0.01)))\n",
        "    model.add(Dropout(dropout[2]))\n",
        "\n",
        "    # add softmax classifier\n",
        "    model.add(Dense(3, activation = 'softmax'))\n",
        "    return model"
      ],
      "metadata": {
        "id": "482KbbCyAVW-"
      },
      "execution_count": 92,
      "outputs": []
    },
    {
      "cell_type": "code",
      "source": [
        "epochs = 10\n",
        "#dropout=[[0.2,0.0,0.5],]\n",
        "es = EarlyStopping(monitor='val_loss',patience=5)\n",
        "model = experiment2.build(dropout=[0.2,0.0,0.5])\n",
        "model.compile(optimizer = 'adam', loss = 'categorical_crossentropy', metrics = ['acc'])\n",
        "model.summary()\n",
        "H = model.fit(trainX,trainY,validation_split=0.2,epochs = epochs,callbacks=[es])\n",
        "\n",
        "plt.style.use('ggplot')\n",
        "plt.figure()\n",
        "plt.plot(np.arange(0, epochs), H.history['loss'], label = 'train_loss')\n",
        "plt.plot(np.arange(0, epochs), H.history['val_loss'], label = 'val_loss')\n",
        "plt.plot(np.arange(0, epochs), H.history['acc'], label = 'train_acc')\n",
        "plt.plot(np.arange(0, epochs), H.history['val_acc'], label = 'val_acc')\n",
        "    \n",
        "# add labels and legend\n",
        "plt.title('Training Loss and Accuracy')\n",
        "plt.xlabel('Epoch #')\n",
        "plt.ylabel('Loss/Accuracy')\n",
        "plt.legend()"
      ],
      "metadata": {
        "colab": {
          "base_uri": "https://localhost:8080/",
          "height": 1000
        },
        "id": "l57ch1uGA4nS",
        "outputId": "810e717c-437c-4dce-b32e-3c3bfe3baae2"
      },
      "execution_count": 93,
      "outputs": [
        {
          "output_type": "stream",
          "name": "stdout",
          "text": [
            "Model: \"sequential_24\"\n",
            "_________________________________________________________________\n",
            " Layer (type)                Output Shape              Param #   \n",
            "=================================================================\n",
            " text_vectorization_23 (Text  (None, None)             0         \n",
            " Vectorization)                                                  \n",
            "                                                                 \n",
            " embedding_21 (Embedding)    (None, None, 128)         1329536   \n",
            "                                                                 \n",
            " dropout_21 (Dropout)        (None, None, 128)         0         \n",
            "                                                                 \n",
            " gru_2 (GRU)                 (None, None, 50)          27000     \n",
            "                                                                 \n",
            " dropout_22 (Dropout)        (None, None, 50)          0         \n",
            "                                                                 \n",
            " bidirectional_7 (Bidirectio  (None, 128)              14720     \n",
            " nal)                                                            \n",
            "                                                                 \n",
            " dense_35 (Dense)            (None, 64)                8256      \n",
            "                                                                 \n",
            " dropout_23 (Dropout)        (None, 64)                0         \n",
            "                                                                 \n",
            " dense_36 (Dense)            (None, 3)                 195       \n",
            "                                                                 \n",
            "=================================================================\n",
            "Total params: 1,379,707\n",
            "Trainable params: 1,379,707\n",
            "Non-trainable params: 0\n",
            "_________________________________________________________________\n",
            "Epoch 1/10\n",
            "413/413 [==============================] - 16s 33ms/step - loss: 0.7360 - acc: 0.7760 - val_loss: 0.3280 - val_acc: 0.9053\n",
            "Epoch 2/10\n",
            "413/413 [==============================] - 13s 32ms/step - loss: 0.2681 - acc: 0.9302 - val_loss: 0.2329 - val_acc: 0.9358\n",
            "Epoch 3/10\n",
            "413/413 [==============================] - 14s 34ms/step - loss: 0.1545 - acc: 0.9641 - val_loss: 0.2115 - val_acc: 0.9407\n",
            "Epoch 4/10\n",
            "413/413 [==============================] - 14s 33ms/step - loss: 0.1080 - acc: 0.9766 - val_loss: 0.2046 - val_acc: 0.9377\n",
            "Epoch 5/10\n",
            "413/413 [==============================] - 13s 32ms/step - loss: 0.0936 - acc: 0.9783 - val_loss: 0.2033 - val_acc: 0.9537\n",
            "Epoch 6/10\n",
            "413/413 [==============================] - 13s 32ms/step - loss: 0.0830 - acc: 0.9811 - val_loss: 0.1906 - val_acc: 0.9513\n",
            "Epoch 7/10\n",
            "413/413 [==============================] - 14s 34ms/step - loss: 0.0787 - acc: 0.9818 - val_loss: 0.1856 - val_acc: 0.9534\n",
            "Epoch 8/10\n",
            "413/413 [==============================] - 13s 31ms/step - loss: 0.0752 - acc: 0.9824 - val_loss: 0.1931 - val_acc: 0.9525\n",
            "Epoch 9/10\n",
            "413/413 [==============================] - 13s 31ms/step - loss: 0.0725 - acc: 0.9816 - val_loss: 0.2316 - val_acc: 0.9131\n",
            "Epoch 10/10\n",
            "413/413 [==============================] - 14s 34ms/step - loss: 0.0748 - acc: 0.9830 - val_loss: 0.1887 - val_acc: 0.9555\n"
          ]
        },
        {
          "output_type": "execute_result",
          "data": {
            "text/plain": [
              "<matplotlib.legend.Legend at 0x7fe99317cd90>"
            ]
          },
          "metadata": {},
          "execution_count": 93
        },
        {
          "output_type": "display_data",
          "data": {
            "image/png": "[encoded data removed]",
            "text/plain": [
              "<Figure size 432x288 with 1 Axes>"
            ]
          },
          "metadata": {}
        }
      ]
    },
    {
      "cell_type": "markdown",
      "source": [
        "#Experiemnt 10 best of previous models with regularization on layers , dropout and early stoping  "
      ],
      "metadata": {
        "id": "-1HJxW847Knq"
      }
    },
    {
      "cell_type": "code",
      "source": [
        "class experiment2:\n",
        "  def build(dropout=[[0,0,0]]):\n",
        "    vectorizeLayer = TextVectorization(output_mode = 'int')\n",
        "\n",
        "    # adapt() fits the TextVectorization layer to our text dataset. This is when the\n",
        "    vectorizeLayer.adapt(trainX)\n",
        "\n",
        "    model = Sequential()\n",
        "\n",
        "    model.add(Input(shape=(1,), dtype = 'string'))\n",
        "\n",
        "    # text vectorization layer\n",
        "    model.add(vectorizeLayer)\n",
        "\n",
        "    # add an embedding layer to turn integers into fixed-length vectors\n",
        "    model.add(Embedding(vectorizeLayer.vocabulary_size(), 128))\n",
        "    model.add(Dropout(dropout[0]))\n",
        "    \n",
        "    model.add(SimpleRNN(64, return_sequences = True))\n",
        "    model.add(Dropout(dropout[1]))\n",
        "    # add a fully-connected recurrent layer\n",
        "    \n",
        "    model.add(Bidirectional(SimpleRNN(64)))\n",
        "    # add a dense layer\n",
        "    model.add(Dense(64, activation = 'relu',kernel_regularizer=regularizers.l2(0.01)))\n",
        "    model.add(Dropout(dropout[2]))\n",
        "\n",
        "    # add softmax classifier\n",
        "    model.add(Dense(3, activation = 'softmax'))\n",
        "    return model"
      ],
      "metadata": {
        "id": "CEVPVqejDxP-"
      },
      "execution_count": 45,
      "outputs": []
    },
    {
      "cell_type": "code",
      "source": [
        "from sklearn.metrics import accuracy_score\n",
        "epochs = 10\n",
        "es = EarlyStopping(monitor='val_loss',patience=5)\n",
        "for dropout in [[0.1,0.2,0.2],[0,0.01,0.05],[0.5, 0.1, 0.2]]:\n",
        "        \n",
        "    model = experiment2.build(dropout=dropout)\n",
        "    model.compile(loss = 'categorical_crossentropy', optimizer = 'adam', metrics = ['acc'])\n",
        "\n",
        "    maxIt = 10\n",
        "    H = model.fit(trainX, trainY, validation_split = 0.20, batch_size =32, epochs = maxIt)\n",
        "    print('Dev accuracy for dropout percentages', dropout, 'is', H.history['val_acc'][-1])\n"
      ],
      "metadata": {
        "colab": {
          "base_uri": "https://localhost:8080/"
        },
        "id": "9yKxaeA_DyYa",
        "outputId": "a3d39bf8-faa8-4e3c-be6a-c001fbc9dad7"
      },
      "execution_count": 46,
      "outputs": [
        {
          "output_type": "stream",
          "name": "stdout",
          "text": [
            "Epoch 1/10\n",
            "413/413 [==============================] - 11s 15ms/step - loss: 0.5639 - acc: 0.8160 - val_loss: 0.2529 - val_acc: 0.9192\n",
            "Epoch 2/10\n",
            "413/413 [==============================] - 4s 11ms/step - loss: 0.1809 - acc: 0.9503 - val_loss: 0.1817 - val_acc: 0.9440\n",
            "Epoch 3/10\n",
            "413/413 [==============================] - 4s 11ms/step - loss: 0.1171 - acc: 0.9711 - val_loss: 0.1627 - val_acc: 0.9546\n",
            "Epoch 4/10\n",
            "413/413 [==============================] - 4s 10ms/step - loss: 0.0945 - acc: 0.9777 - val_loss: 0.1780 - val_acc: 0.9519\n",
            "Epoch 5/10\n",
            "413/413 [==============================] - 4s 10ms/step - loss: 0.0799 - acc: 0.9806 - val_loss: 0.1792 - val_acc: 0.9519\n",
            "Epoch 6/10\n",
            "413/413 [==============================] - 4s 10ms/step - loss: 0.0767 - acc: 0.9823 - val_loss: 0.1920 - val_acc: 0.9558\n",
            "Epoch 7/10\n",
            "413/413 [==============================] - 4s 10ms/step - loss: 0.0679 - acc: 0.9840 - val_loss: 0.1703 - val_acc: 0.9564\n",
            "Epoch 8/10\n",
            "413/413 [==============================] - 5s 11ms/step - loss: 0.0776 - acc: 0.9828 - val_loss: 0.1830 - val_acc: 0.9561\n",
            "Epoch 9/10\n",
            "413/413 [==============================] - 4s 11ms/step - loss: 0.0631 - acc: 0.9852 - val_loss: 0.1798 - val_acc: 0.9582\n",
            "Epoch 10/10\n",
            "413/413 [==============================] - 4s 11ms/step - loss: 0.0521 - acc: 0.9880 - val_loss: 0.2199 - val_acc: 0.9591\n",
            "Dev accuracy for dropout percentages [0.1, 0.2, 0.2] is 0.959140419960022\n",
            "Epoch 1/10\n",
            "413/413 [==============================] - 10s 14ms/step - loss: 0.5687 - acc: 0.7945 - val_loss: 0.3987 - val_acc: 0.8856\n",
            "Epoch 2/10\n",
            "413/413 [==============================] - 4s 10ms/step - loss: 0.1907 - acc: 0.9447 - val_loss: 0.1839 - val_acc: 0.9467\n",
            "Epoch 3/10\n",
            "413/413 [==============================] - 4s 10ms/step - loss: 0.1197 - acc: 0.9700 - val_loss: 0.1831 - val_acc: 0.9446\n",
            "Epoch 4/10\n",
            "413/413 [==============================] - 4s 10ms/step - loss: 0.0997 - acc: 0.9762 - val_loss: 0.1720 - val_acc: 0.9570\n",
            "Epoch 5/10\n",
            "413/413 [==============================] - 4s 10ms/step - loss: 0.0807 - acc: 0.9806 - val_loss: 0.1969 - val_acc: 0.9534\n",
            "Epoch 6/10\n",
            "413/413 [==============================] - 5s 11ms/step - loss: 0.0685 - acc: 0.9844 - val_loss: 0.1679 - val_acc: 0.9573\n",
            "Epoch 7/10\n",
            "413/413 [==============================] - 5s 12ms/step - loss: 0.0635 - acc: 0.9851 - val_loss: 0.1915 - val_acc: 0.9543\n",
            "Epoch 8/10\n",
            "413/413 [==============================] - 5s 11ms/step - loss: 0.0595 - acc: 0.9852 - val_loss: 0.1623 - val_acc: 0.9531\n",
            "Epoch 9/10\n",
            "413/413 [==============================] - 4s 11ms/step - loss: 0.0629 - acc: 0.9841 - val_loss: 0.1746 - val_acc: 0.9549\n",
            "Epoch 10/10\n",
            "413/413 [==============================] - 5s 11ms/step - loss: 0.0488 - acc: 0.9877 - val_loss: 0.1663 - val_acc: 0.9634\n",
            "Dev accuracy for dropout percentages [0, 0.01, 0.05] is 0.9633777141571045\n",
            "Epoch 1/10\n",
            "413/413 [==============================] - 9s 13ms/step - loss: 0.6045 - acc: 0.7952 - val_loss: 0.2718 - val_acc: 0.9080\n",
            "Epoch 2/10\n",
            "413/413 [==============================] - 4s 10ms/step - loss: 0.2083 - acc: 0.9380 - val_loss: 0.1897 - val_acc: 0.9449\n",
            "Epoch 3/10\n",
            "413/413 [==============================] - 4s 10ms/step - loss: 0.1474 - acc: 0.9598 - val_loss: 0.1847 - val_acc: 0.9434\n",
            "Epoch 4/10\n",
            "413/413 [==============================] - 4s 10ms/step - loss: 0.1171 - acc: 0.9690 - val_loss: 0.1679 - val_acc: 0.9510\n",
            "Epoch 5/10\n",
            "413/413 [==============================] - 4s 10ms/step - loss: 0.0972 - acc: 0.9737 - val_loss: 0.1776 - val_acc: 0.9552\n",
            "Epoch 6/10\n",
            "413/413 [==============================] - 4s 10ms/step - loss: 0.0843 - acc: 0.9793 - val_loss: 0.1782 - val_acc: 0.9543\n",
            "Epoch 7/10\n",
            "413/413 [==============================] - 4s 10ms/step - loss: 0.0790 - acc: 0.9800 - val_loss: 0.1641 - val_acc: 0.9537\n",
            "Epoch 8/10\n",
            "413/413 [==============================] - 4s 10ms/step - loss: 0.0770 - acc: 0.9800 - val_loss: 0.1719 - val_acc: 0.9564\n",
            "Epoch 9/10\n",
            "413/413 [==============================] - 4s 10ms/step - loss: 0.0710 - acc: 0.9827 - val_loss: 0.1454 - val_acc: 0.9567\n",
            "Epoch 10/10\n",
            "413/413 [==============================] - 4s 10ms/step - loss: 0.0676 - acc: 0.9831 - val_loss: 0.1687 - val_acc: 0.9552\n",
            "Dev accuracy for dropout percentages [0.5, 0.1, 0.2] is 0.9552057981491089\n"
          ]
        }
      ]
    },
    {
      "cell_type": "markdown",
      "source": [
        "# Trying L2 regularization"
      ],
      "metadata": {
        "id": "G8DWca_EruS7"
      }
    },
    {
      "cell_type": "code",
      "source": [
        "class experiment2:\n",
        "  def build(l1=0,l2=0):\n",
        "    vectorizeLayer = TextVectorization(output_mode = 'int')\n",
        "\n",
        "    # adapt() fits the TextVectorization layer to our text dataset. This is when the\n",
        "    vectorizeLayer.adapt(trainX)\n",
        "\n",
        "    model = Sequential()\n",
        "\n",
        "    model.add(Input(shape=(1,), dtype = 'string'))\n",
        "\n",
        "    # text vectorization layer\n",
        "    model.add(vectorizeLayer)\n",
        "\n",
        "    # add an embedding layer to turn integers into fixed-length vectors\n",
        "    model.add(Embedding(vectorizeLayer.vocabulary_size(), 128))\n",
        "    model.add(Dropout(dropout[0]))\n",
        "    \n",
        "    model.add(LSTM(64, return_sequences = True))\n",
        "    model.add(Dropout(dropout[1]))\n",
        "    # add a fully-connected recurrent layer\n",
        "    #model.add(Bidirectional(SimpleRNN(64)))\n",
        "    \n",
        "    model.add(Bidirectional(LSTM(64)))\n",
        "    # add a dense layer\n",
        "    model.add(Dense(64, activation = 'relu',kernel_regularizer= l1_l2(l1=l1, l2=l2)))\n",
        "    model.add(Dropout(dropout[2]))\n",
        "\n",
        "    # add softmax classifier\n",
        "    model.add(Dense(3, activation = 'softmax'))\n",
        "    return model"
      ],
      "metadata": {
        "id": "TVie0Sx-pXRa"
      },
      "execution_count": 58,
      "outputs": []
    },
    {
      "cell_type": "code",
      "source": [
        "from sklearn.metrics import accuracy_score\n",
        "epochs = 10\n",
        "es = EarlyStopping(monitor='val_loss',patience=5)\n",
        "for l1 in [0, 0.001, 0.01, 0.1]:\n",
        "  for l2 in [0, 0.001, 0.01, 0.1]:\n",
        "      model = experiment2.build(l1/trainX.shape[0], l2/trainX.shape[0])\n",
        "      model.compile(loss = 'categorical_crossentropy', optimizer = 'adam', metrics = ['acc'])\n",
        "\n",
        "      maxIt = 10\n",
        "      H = model.fit(trainX, trainY, validation_split = 0.20, batch_size =32, epochs = maxIt,verbose = 0,callbacks=[es])\n",
        "      dev_accuracy = H.history['val_acc'][-1]\n",
        "      print('Dev accuracy for l1 =', l1, ', l2 =', l2, 'is', dev_accuracy)"
      ],
      "metadata": {
        "colab": {
          "base_uri": "https://localhost:8080/"
        },
        "id": "Vl2n6ybCr3WV",
        "outputId": "ccb49216-9c31-44e7-8a9c-c80c2592b64b"
      },
      "execution_count": 61,
      "outputs": [
        {
          "output_type": "stream",
          "name": "stdout",
          "text": [
            "Dev accuracy for l1 = 0 , l2 = 0 is 0.9621670842170715\n",
            "Dev accuracy for l1 = 0 , l2 = 0.001 is 0.9582324624061584\n",
            "Dev accuracy for l1 = 0 , l2 = 0.01 is 0.9542978405952454\n",
            "Dev accuracy for l1 = 0 , l2 = 0.1 is 0.9603511095046997\n",
            "Dev accuracy for l1 = 0.001 , l2 = 0 is 0.9546005129814148\n",
            "Dev accuracy for l1 = 0.001 , l2 = 0.001 is 0.9558111429214478\n",
            "Dev accuracy for l1 = 0.001 , l2 = 0.01 is 0.9606537818908691\n",
            "Dev accuracy for l1 = 0.001 , l2 = 0.1 is 0.9594430923461914\n",
            "Dev accuracy for l1 = 0.01 , l2 = 0 is 0.9564164876937866\n",
            "Dev accuracy for l1 = 0.01 , l2 = 0.001 is 0.9594430923461914\n",
            "Dev accuracy for l1 = 0.01 , l2 = 0.01 is 0.9488498568534851\n",
            "Dev accuracy for l1 = 0.01 , l2 = 0.1 is 0.9582324624061584\n",
            "Dev accuracy for l1 = 0.1 , l2 = 0 is 0.9555084705352783\n",
            "Dev accuracy for l1 = 0.1 , l2 = 0.001 is 0.9609563946723938\n",
            "Dev accuracy for l1 = 0.1 , l2 = 0.01 is 0.9539951682090759\n",
            "Dev accuracy for l1 = 0.1 , l2 = 0.1 is 0.9588377475738525\n"
          ]
        }
      ]
    },
    {
      "cell_type": "markdown",
      "source": [
        "#TEST "
      ],
      "metadata": {
        "id": "yYVavNQSCrAI"
      }
    },
    {
      "cell_type": "code",
      "source": [
        "class experiment2:\n",
        "  def build(dropout=[0,0.1,0.5],l1=0.1,l2=0.001):\n",
        "    vectorizeLayer = TextVectorization(output_mode = 'int')\n",
        "\n",
        "    # adapt() fits the TextVectorization layer to our text dataset. This is when the\n",
        "    vectorizeLayer.adapt(trainX)\n",
        "\n",
        "    model = Sequential()\n",
        "\n",
        "    model.add(Input(shape=(1,), dtype = 'string'))\n",
        "\n",
        "    # text vectorization layer\n",
        "    model.add(vectorizeLayer)\n",
        "\n",
        "    # add an embedding layer to turn integers into fixed-length vectors\n",
        "    model.add(Embedding(vectorizeLayer.vocabulary_size(), 128))\n",
        "    model.add(Dropout(dropout[0]))\n",
        "    \n",
        "    model.add(LSTM(64, return_sequences = True))\n",
        "    model.add(Dropout(dropout[1]))\n",
        "    # add a fully-connected recurrent layer\n",
        "    #model.add(Bidirectional(SimpleRNN(64)))\n",
        "    \n",
        "    model.add(Bidirectional(LSTM(64)))\n",
        "    # add a dense layer\n",
        "    model.add(Dense(64, activation = 'relu',kernel_regularizer= l1_l2(l1=l1, l2=l2)))\n",
        "    model.add(Dropout(dropout[2]))\n",
        "\n",
        "    # add softmax classifier\n",
        "    model.add(Dense(3, activation = 'softmax'))\n",
        "    return model"
      ],
      "metadata": {
        "id": "9AjQhGzu7IMP"
      },
      "execution_count": 62,
      "outputs": []
    },
    {
      "cell_type": "code",
      "source": [
        "maxIt = 10\n",
        "H = model.fit(trainX, trainY, validation_split = 0.20, epochs = maxIt)\n",
        "\n",
        "print('\\n Test accuracy')\n",
        "predictedY = model.predict(testX)\n",
        "predictedY = predictedY.argmax(axis=1)\n",
        "testYC = testY.argmax(axis=1)\n",
        "print(classification_report(testYC, predictedY))\n",
        "\n",
        "sn.heatmap(confusion_matrix(testYC, predictedY), annot = True)\n",
        "# plot the training loss and accuracy\n",
        "plt.style.use(\"ggplot\")\n",
        "plt.figure()\n",
        "\n",
        "plt.plot(np.arange(0, maxIt), H.history[\"acc\"], label=\"train_acc\")\n",
        "plt.plot(np.arange(0, maxIt), H.history[\"val_acc\"], label=\"val_acc\")\n",
        "plt.title(\"Training Loss and Accuracy\")\n",
        "plt.xlabel(\"Epoch #\")\n",
        "plt.ylabel(\"Loss/Accuracy\")\n",
        "plt.legend()"
      ],
      "metadata": {
        "colab": {
          "base_uri": "https://localhost:8080/",
          "height": 1000
        },
        "id": "wdC9XEoeDJsY",
        "outputId": "6feb4c36-791d-4592-ec74-a15d933aff10"
      },
      "execution_count": 63,
      "outputs": [
        {
          "output_type": "stream",
          "name": "stdout",
          "text": [
            "Epoch 1/10\n",
            "413/413 [==============================] - 5s 12ms/step - loss: 0.0471 - acc: 0.9860 - val_loss: 0.1910 - val_acc: 0.9528\n",
            "Epoch 2/10\n",
            "413/413 [==============================] - 5s 12ms/step - loss: 0.0424 - acc: 0.9869 - val_loss: 0.1989 - val_acc: 0.9591\n",
            "Epoch 3/10\n",
            "413/413 [==============================] - 5s 11ms/step - loss: 0.0404 - acc: 0.9874 - val_loss: 0.2031 - val_acc: 0.9600\n",
            "Epoch 4/10\n",
            "413/413 [==============================] - 5s 11ms/step - loss: 0.0396 - acc: 0.9870 - val_loss: 0.2091 - val_acc: 0.9558\n",
            "Epoch 5/10\n",
            "413/413 [==============================] - 5s 11ms/step - loss: 0.0352 - acc: 0.9887 - val_loss: 0.2116 - val_acc: 0.9613\n",
            "Epoch 6/10\n",
            "413/413 [==============================] - 4s 10ms/step - loss: 0.0354 - acc: 0.9883 - val_loss: 0.2334 - val_acc: 0.9594\n",
            "Epoch 7/10\n",
            "413/413 [==============================] - 4s 10ms/step - loss: 0.0357 - acc: 0.9892 - val_loss: 0.2246 - val_acc: 0.9576\n",
            "Epoch 8/10\n",
            "413/413 [==============================] - 4s 10ms/step - loss: 0.0321 - acc: 0.9894 - val_loss: 0.2285 - val_acc: 0.9591\n",
            "Epoch 9/10\n",
            "413/413 [==============================] - 4s 10ms/step - loss: 0.0319 - acc: 0.9902 - val_loss: 0.2332 - val_acc: 0.9622\n",
            "Epoch 10/10\n",
            "413/413 [==============================] - 4s 11ms/step - loss: 0.0320 - acc: 0.9902 - val_loss: 0.2454 - val_acc: 0.9582\n",
            "\n",
            " Test accuracy\n",
            "              precision    recall  f1-score   support\n",
            "\n",
            "           0       0.96      0.91      0.94      3656\n",
            "           1       0.99      1.00      0.99      3692\n",
            "           2       0.92      0.96      0.94      3666\n",
            "\n",
            "    accuracy                           0.96     11014\n",
            "   macro avg       0.96      0.96      0.96     11014\n",
            "weighted avg       0.96      0.96      0.96     11014\n",
            "\n"
          ]
        },
        {
          "output_type": "execute_result",
          "data": {
            "text/plain": [
              "<matplotlib.legend.Legend at 0x7fb54385aed0>"
            ]
          },
          "metadata": {},
          "execution_count": 63
        },
        {
          "output_type": "display_data",
          "data": {
            "image/png": "[encoded data removed]",
            "text/plain": [
              "<Figure size 432x288 with 2 Axes>"
            ]
          },
          "metadata": {}
        },
        {
          "output_type": "display_data",
          "data": {
            "image/png": "[encoded data removed]",
            "text/plain": [
              "<Figure size 432x288 with 1 Axes>"
            ]
          },
          "metadata": {}
        }
      ]
    },
    {
      "cell_type": "code",
      "source": [
        "plt.plot(np.arange(0, maxIt), H.history[\"acc\"], label=\"train_acc\")\n",
        "plt.plot(np.arange(0, maxIt), H.history[\"val_acc\"], label=\"val_acc\")\n",
        "plt.title(\"Testing Loss and Accuracy\")\n",
        "plt.xlabel(\"Epoch #\")\n",
        "plt.ylabel(\"Loss/Accuracy\")\n",
        "plt.legend()"
      ],
      "metadata": {
        "colab": {
          "base_uri": "https://localhost:8080/",
          "height": 316
        },
        "id": "hVXxHmO7IlhL",
        "outputId": "2babd7e0-fd85-4752-fe6b-1674baa1e3bd"
      },
      "execution_count": 120,
      "outputs": [
        {
          "output_type": "execute_result",
          "data": {
            "text/plain": [
              "<matplotlib.legend.Legend at 0x7fe9840dee10>"
            ]
          },
          "metadata": {},
          "execution_count": 120
        },
        {
          "output_type": "display_data",
          "data": {
            "image/png": "[encoded data removed]",
            "text/plain": [
              "<Figure size 432x288 with 1 Axes>"
            ]
          },
          "metadata": {}
        }
      ]
    }
  ]
}